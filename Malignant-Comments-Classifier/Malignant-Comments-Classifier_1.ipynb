{
 "cells": [
  {
   "cell_type": "markdown",
   "id": "4826e9d1",
   "metadata": {},
   "source": [
    "# MALIGNANT COMMENTS CLASSIFIER"
   ]
  },
  {
   "cell_type": "code",
   "execution_count": 1,
   "id": "5387878e",
   "metadata": {},
   "outputs": [],
   "source": [
    "#import libraries\n",
    "import pandas as pd\n",
    "import numpy as np\n",
    "import seaborn as sns\n",
    "import matplotlib.pyplot as plt\n",
    "import warnings\n",
    "warnings.filterwarnings('ignore')"
   ]
  },
  {
   "cell_type": "code",
   "execution_count": 2,
   "id": "2dec299d",
   "metadata": {},
   "outputs": [
    {
     "ename": "FileNotFoundError",
     "evalue": "[Errno 2] No such file or directory: 'train.csv'",
     "output_type": "error",
     "traceback": [
      "\u001b[1;31m---------------------------------------------------------------------------\u001b[0m",
      "\u001b[1;31mFileNotFoundError\u001b[0m                         Traceback (most recent call last)",
      "\u001b[1;32m<ipython-input-2-59babebf9817>\u001b[0m in \u001b[0;36m<module>\u001b[1;34m\u001b[0m\n\u001b[0;32m      1\u001b[0m \u001b[1;31m#load datasets\u001b[0m\u001b[1;33m\u001b[0m\u001b[1;33m\u001b[0m\u001b[1;33m\u001b[0m\u001b[0m\n\u001b[1;32m----> 2\u001b[1;33m \u001b[0mtrain\u001b[0m\u001b[1;33m=\u001b[0m\u001b[0mpd\u001b[0m\u001b[1;33m.\u001b[0m\u001b[0mread_csv\u001b[0m\u001b[1;33m(\u001b[0m\u001b[1;34m\"train.csv\"\u001b[0m\u001b[1;33m)\u001b[0m\u001b[1;33m\u001b[0m\u001b[1;33m\u001b[0m\u001b[0m\n\u001b[0m\u001b[0;32m      3\u001b[0m \u001b[0mtest\u001b[0m\u001b[1;33m=\u001b[0m\u001b[0mpd\u001b[0m\u001b[1;33m.\u001b[0m\u001b[0mread_csv\u001b[0m\u001b[1;33m(\u001b[0m\u001b[1;34m\"test.csv\"\u001b[0m\u001b[1;33m)\u001b[0m\u001b[1;33m\u001b[0m\u001b[1;33m\u001b[0m\u001b[0m\n",
      "\u001b[1;32m~\\anaconda3\\lib\\site-packages\\pandas\\io\\parsers.py\u001b[0m in \u001b[0;36mread_csv\u001b[1;34m(filepath_or_buffer, sep, delimiter, header, names, index_col, usecols, squeeze, prefix, mangle_dupe_cols, dtype, engine, converters, true_values, false_values, skipinitialspace, skiprows, skipfooter, nrows, na_values, keep_default_na, na_filter, verbose, skip_blank_lines, parse_dates, infer_datetime_format, keep_date_col, date_parser, dayfirst, cache_dates, iterator, chunksize, compression, thousands, decimal, lineterminator, quotechar, quoting, doublequote, escapechar, comment, encoding, dialect, error_bad_lines, warn_bad_lines, delim_whitespace, low_memory, memory_map, float_precision, storage_options)\u001b[0m\n\u001b[0;32m    608\u001b[0m     \u001b[0mkwds\u001b[0m\u001b[1;33m.\u001b[0m\u001b[0mupdate\u001b[0m\u001b[1;33m(\u001b[0m\u001b[0mkwds_defaults\u001b[0m\u001b[1;33m)\u001b[0m\u001b[1;33m\u001b[0m\u001b[1;33m\u001b[0m\u001b[0m\n\u001b[0;32m    609\u001b[0m \u001b[1;33m\u001b[0m\u001b[0m\n\u001b[1;32m--> 610\u001b[1;33m     \u001b[1;32mreturn\u001b[0m \u001b[0m_read\u001b[0m\u001b[1;33m(\u001b[0m\u001b[0mfilepath_or_buffer\u001b[0m\u001b[1;33m,\u001b[0m \u001b[0mkwds\u001b[0m\u001b[1;33m)\u001b[0m\u001b[1;33m\u001b[0m\u001b[1;33m\u001b[0m\u001b[0m\n\u001b[0m\u001b[0;32m    611\u001b[0m \u001b[1;33m\u001b[0m\u001b[0m\n\u001b[0;32m    612\u001b[0m \u001b[1;33m\u001b[0m\u001b[0m\n",
      "\u001b[1;32m~\\anaconda3\\lib\\site-packages\\pandas\\io\\parsers.py\u001b[0m in \u001b[0;36m_read\u001b[1;34m(filepath_or_buffer, kwds)\u001b[0m\n\u001b[0;32m    460\u001b[0m \u001b[1;33m\u001b[0m\u001b[0m\n\u001b[0;32m    461\u001b[0m     \u001b[1;31m# Create the parser.\u001b[0m\u001b[1;33m\u001b[0m\u001b[1;33m\u001b[0m\u001b[1;33m\u001b[0m\u001b[0m\n\u001b[1;32m--> 462\u001b[1;33m     \u001b[0mparser\u001b[0m \u001b[1;33m=\u001b[0m \u001b[0mTextFileReader\u001b[0m\u001b[1;33m(\u001b[0m\u001b[0mfilepath_or_buffer\u001b[0m\u001b[1;33m,\u001b[0m \u001b[1;33m**\u001b[0m\u001b[0mkwds\u001b[0m\u001b[1;33m)\u001b[0m\u001b[1;33m\u001b[0m\u001b[1;33m\u001b[0m\u001b[0m\n\u001b[0m\u001b[0;32m    463\u001b[0m \u001b[1;33m\u001b[0m\u001b[0m\n\u001b[0;32m    464\u001b[0m     \u001b[1;32mif\u001b[0m \u001b[0mchunksize\u001b[0m \u001b[1;32mor\u001b[0m \u001b[0miterator\u001b[0m\u001b[1;33m:\u001b[0m\u001b[1;33m\u001b[0m\u001b[1;33m\u001b[0m\u001b[0m\n",
      "\u001b[1;32m~\\anaconda3\\lib\\site-packages\\pandas\\io\\parsers.py\u001b[0m in \u001b[0;36m__init__\u001b[1;34m(self, f, engine, **kwds)\u001b[0m\n\u001b[0;32m    817\u001b[0m             \u001b[0mself\u001b[0m\u001b[1;33m.\u001b[0m\u001b[0moptions\u001b[0m\u001b[1;33m[\u001b[0m\u001b[1;34m\"has_index_names\"\u001b[0m\u001b[1;33m]\u001b[0m \u001b[1;33m=\u001b[0m \u001b[0mkwds\u001b[0m\u001b[1;33m[\u001b[0m\u001b[1;34m\"has_index_names\"\u001b[0m\u001b[1;33m]\u001b[0m\u001b[1;33m\u001b[0m\u001b[1;33m\u001b[0m\u001b[0m\n\u001b[0;32m    818\u001b[0m \u001b[1;33m\u001b[0m\u001b[0m\n\u001b[1;32m--> 819\u001b[1;33m         \u001b[0mself\u001b[0m\u001b[1;33m.\u001b[0m\u001b[0m_engine\u001b[0m \u001b[1;33m=\u001b[0m \u001b[0mself\u001b[0m\u001b[1;33m.\u001b[0m\u001b[0m_make_engine\u001b[0m\u001b[1;33m(\u001b[0m\u001b[0mself\u001b[0m\u001b[1;33m.\u001b[0m\u001b[0mengine\u001b[0m\u001b[1;33m)\u001b[0m\u001b[1;33m\u001b[0m\u001b[1;33m\u001b[0m\u001b[0m\n\u001b[0m\u001b[0;32m    820\u001b[0m \u001b[1;33m\u001b[0m\u001b[0m\n\u001b[0;32m    821\u001b[0m     \u001b[1;32mdef\u001b[0m \u001b[0mclose\u001b[0m\u001b[1;33m(\u001b[0m\u001b[0mself\u001b[0m\u001b[1;33m)\u001b[0m\u001b[1;33m:\u001b[0m\u001b[1;33m\u001b[0m\u001b[1;33m\u001b[0m\u001b[0m\n",
      "\u001b[1;32m~\\anaconda3\\lib\\site-packages\\pandas\\io\\parsers.py\u001b[0m in \u001b[0;36m_make_engine\u001b[1;34m(self, engine)\u001b[0m\n\u001b[0;32m   1048\u001b[0m             )\n\u001b[0;32m   1049\u001b[0m         \u001b[1;31m# error: Too many arguments for \"ParserBase\"\u001b[0m\u001b[1;33m\u001b[0m\u001b[1;33m\u001b[0m\u001b[1;33m\u001b[0m\u001b[0m\n\u001b[1;32m-> 1050\u001b[1;33m         \u001b[1;32mreturn\u001b[0m \u001b[0mmapping\u001b[0m\u001b[1;33m[\u001b[0m\u001b[0mengine\u001b[0m\u001b[1;33m]\u001b[0m\u001b[1;33m(\u001b[0m\u001b[0mself\u001b[0m\u001b[1;33m.\u001b[0m\u001b[0mf\u001b[0m\u001b[1;33m,\u001b[0m \u001b[1;33m**\u001b[0m\u001b[0mself\u001b[0m\u001b[1;33m.\u001b[0m\u001b[0moptions\u001b[0m\u001b[1;33m)\u001b[0m  \u001b[1;31m# type: ignore[call-arg]\u001b[0m\u001b[1;33m\u001b[0m\u001b[1;33m\u001b[0m\u001b[0m\n\u001b[0m\u001b[0;32m   1051\u001b[0m \u001b[1;33m\u001b[0m\u001b[0m\n\u001b[0;32m   1052\u001b[0m     \u001b[1;32mdef\u001b[0m \u001b[0m_failover_to_python\u001b[0m\u001b[1;33m(\u001b[0m\u001b[0mself\u001b[0m\u001b[1;33m)\u001b[0m\u001b[1;33m:\u001b[0m\u001b[1;33m\u001b[0m\u001b[1;33m\u001b[0m\u001b[0m\n",
      "\u001b[1;32m~\\anaconda3\\lib\\site-packages\\pandas\\io\\parsers.py\u001b[0m in \u001b[0;36m__init__\u001b[1;34m(self, src, **kwds)\u001b[0m\n\u001b[0;32m   1865\u001b[0m \u001b[1;33m\u001b[0m\u001b[0m\n\u001b[0;32m   1866\u001b[0m         \u001b[1;31m# open handles\u001b[0m\u001b[1;33m\u001b[0m\u001b[1;33m\u001b[0m\u001b[1;33m\u001b[0m\u001b[0m\n\u001b[1;32m-> 1867\u001b[1;33m         \u001b[0mself\u001b[0m\u001b[1;33m.\u001b[0m\u001b[0m_open_handles\u001b[0m\u001b[1;33m(\u001b[0m\u001b[0msrc\u001b[0m\u001b[1;33m,\u001b[0m \u001b[0mkwds\u001b[0m\u001b[1;33m)\u001b[0m\u001b[1;33m\u001b[0m\u001b[1;33m\u001b[0m\u001b[0m\n\u001b[0m\u001b[0;32m   1868\u001b[0m         \u001b[1;32massert\u001b[0m \u001b[0mself\u001b[0m\u001b[1;33m.\u001b[0m\u001b[0mhandles\u001b[0m \u001b[1;32mis\u001b[0m \u001b[1;32mnot\u001b[0m \u001b[1;32mNone\u001b[0m\u001b[1;33m\u001b[0m\u001b[1;33m\u001b[0m\u001b[0m\n\u001b[0;32m   1869\u001b[0m         \u001b[1;32mfor\u001b[0m \u001b[0mkey\u001b[0m \u001b[1;32min\u001b[0m \u001b[1;33m(\u001b[0m\u001b[1;34m\"storage_options\"\u001b[0m\u001b[1;33m,\u001b[0m \u001b[1;34m\"encoding\"\u001b[0m\u001b[1;33m,\u001b[0m \u001b[1;34m\"memory_map\"\u001b[0m\u001b[1;33m,\u001b[0m \u001b[1;34m\"compression\"\u001b[0m\u001b[1;33m)\u001b[0m\u001b[1;33m:\u001b[0m\u001b[1;33m\u001b[0m\u001b[1;33m\u001b[0m\u001b[0m\n",
      "\u001b[1;32m~\\anaconda3\\lib\\site-packages\\pandas\\io\\parsers.py\u001b[0m in \u001b[0;36m_open_handles\u001b[1;34m(self, src, kwds)\u001b[0m\n\u001b[0;32m   1360\u001b[0m         \u001b[0mLet\u001b[0m \u001b[0mthe\u001b[0m \u001b[0mreaders\u001b[0m \u001b[0mopen\u001b[0m \u001b[0mIOHanldes\u001b[0m \u001b[0mafter\u001b[0m \u001b[0mthey\u001b[0m \u001b[0mare\u001b[0m \u001b[0mdone\u001b[0m \u001b[1;32mwith\u001b[0m \u001b[0mtheir\u001b[0m \u001b[0mpotential\u001b[0m \u001b[0mraises\u001b[0m\u001b[1;33m.\u001b[0m\u001b[1;33m\u001b[0m\u001b[1;33m\u001b[0m\u001b[0m\n\u001b[0;32m   1361\u001b[0m         \"\"\"\n\u001b[1;32m-> 1362\u001b[1;33m         self.handles = get_handle(\n\u001b[0m\u001b[0;32m   1363\u001b[0m             \u001b[0msrc\u001b[0m\u001b[1;33m,\u001b[0m\u001b[1;33m\u001b[0m\u001b[1;33m\u001b[0m\u001b[0m\n\u001b[0;32m   1364\u001b[0m             \u001b[1;34m\"r\"\u001b[0m\u001b[1;33m,\u001b[0m\u001b[1;33m\u001b[0m\u001b[1;33m\u001b[0m\u001b[0m\n",
      "\u001b[1;32m~\\anaconda3\\lib\\site-packages\\pandas\\io\\common.py\u001b[0m in \u001b[0;36mget_handle\u001b[1;34m(path_or_buf, mode, encoding, compression, memory_map, is_text, errors, storage_options)\u001b[0m\n\u001b[0;32m    640\u001b[0m                 \u001b[0merrors\u001b[0m \u001b[1;33m=\u001b[0m \u001b[1;34m\"replace\"\u001b[0m\u001b[1;33m\u001b[0m\u001b[1;33m\u001b[0m\u001b[0m\n\u001b[0;32m    641\u001b[0m             \u001b[1;31m# Encoding\u001b[0m\u001b[1;33m\u001b[0m\u001b[1;33m\u001b[0m\u001b[1;33m\u001b[0m\u001b[0m\n\u001b[1;32m--> 642\u001b[1;33m             handle = open(\n\u001b[0m\u001b[0;32m    643\u001b[0m                 \u001b[0mhandle\u001b[0m\u001b[1;33m,\u001b[0m\u001b[1;33m\u001b[0m\u001b[1;33m\u001b[0m\u001b[0m\n\u001b[0;32m    644\u001b[0m                 \u001b[0mioargs\u001b[0m\u001b[1;33m.\u001b[0m\u001b[0mmode\u001b[0m\u001b[1;33m,\u001b[0m\u001b[1;33m\u001b[0m\u001b[1;33m\u001b[0m\u001b[0m\n",
      "\u001b[1;31mFileNotFoundError\u001b[0m: [Errno 2] No such file or directory: 'train.csv'"
     ]
    }
   ],
   "source": [
    "#load datasets\n",
    "train=pd.read_csv(\"train.csv\")\n",
    "test=pd.read_csv(\"test.csv\")"
   ]
  },
  {
   "cell_type": "code",
   "execution_count": null,
   "id": "62cbab4e",
   "metadata": {},
   "outputs": [],
   "source": [
    "train"
   ]
  },
  {
   "cell_type": "code",
   "execution_count": null,
   "id": "3e62cb42",
   "metadata": {},
   "outputs": [],
   "source": [
    "test"
   ]
  },
  {
   "cell_type": "code",
   "execution_count": null,
   "id": "f47a128a",
   "metadata": {},
   "outputs": [],
   "source": [
    "print('Train_data:',train.shape)\n",
    "print('Test_data:',test.shape)"
   ]
  },
  {
   "cell_type": "code",
   "execution_count": null,
   "id": "9b2ee880",
   "metadata": {},
   "outputs": [],
   "source": [
    "train.columns"
   ]
  },
  {
   "cell_type": "code",
   "execution_count": null,
   "id": "833b670d",
   "metadata": {},
   "outputs": [],
   "source": [
    "test.columns"
   ]
  },
  {
   "cell_type": "code",
   "execution_count": null,
   "id": "8bd0a569",
   "metadata": {},
   "outputs": [],
   "source": [
    "train.isnull().sum()"
   ]
  },
  {
   "cell_type": "code",
   "execution_count": null,
   "id": "961a868e",
   "metadata": {},
   "outputs": [],
   "source": [
    "test.isnull().sum()"
   ]
  },
  {
   "cell_type": "markdown",
   "id": "574ad227",
   "metadata": {},
   "source": [
    "# Visualizations"
   ]
  },
  {
   "cell_type": "markdown",
   "id": "f9550b59",
   "metadata": {},
   "source": [
    "Count plot:"
   ]
  },
  {
   "cell_type": "code",
   "execution_count": null,
   "id": "7147b11d",
   "metadata": {},
   "outputs": [],
   "source": [
    "col=['malignant','highly_malignant','rude','threat','abuse','loathe']\n",
    "\n",
    "for i in col:\n",
    "    print(i)\n",
    "    print(\"\\n\")\n",
    "    print(train[i].value_counts())\n",
    "    sns.countplot(train[i])\n",
    "    plt.show()"
   ]
  },
  {
   "cell_type": "markdown",
   "id": "4bf8a85b",
   "metadata": {},
   "source": [
    "From the above observation we can see that, 15294 comments are malignant and 144277 comments are not malignant.\n",
    "1595 comments are highly_malignant and 157976 comments are not highly_malignant.\n",
    "8449 comments are rude and 151122 are not rude.\n",
    "478 comments are threat and 159093 comments are not threat.\n",
    "7877 comments are abuse and 151694 comments are not abuse.\n",
    "1405 comments are loathe and 158166 comments are not loathe."
   ]
  },
  {
   "cell_type": "markdown",
   "id": "8b1e72c2",
   "metadata": {},
   "source": [
    "# Correlation:"
   ]
  },
  {
   "cell_type": "code",
   "execution_count": null,
   "id": "86747c4b",
   "metadata": {},
   "outputs": [],
   "source": [
    "train.corr()"
   ]
  },
  {
   "cell_type": "markdown",
   "id": "230eac93",
   "metadata": {},
   "source": [
    "correlation using heatmap:"
   ]
  },
  {
   "cell_type": "code",
   "execution_count": null,
   "id": "9d2e9094",
   "metadata": {},
   "outputs": [],
   "source": [
    "plt.figure(figsize=(15,7))\n",
    "sns.heatmap(train.corr(),annot=True,linewidth=0.5,linecolor=\"black\",fmt='.2f')"
   ]
  },
  {
   "cell_type": "markdown",
   "id": "4e5d28d0",
   "metadata": {},
   "source": [
    "# Describing dataset:"
   ]
  },
  {
   "cell_type": "code",
   "execution_count": null,
   "id": "0e74b3b1",
   "metadata": {},
   "outputs": [],
   "source": [
    "train.describe()"
   ]
  },
  {
   "cell_type": "markdown",
   "id": "6df4286b",
   "metadata": {},
   "source": [
    "Describe of dataset using heatmap:"
   ]
  },
  {
   "cell_type": "code",
   "execution_count": null,
   "id": "104b6362",
   "metadata": {},
   "outputs": [],
   "source": [
    "plt.figure(figsize=(15,12))\n",
    "sns.heatmap(round(train.describe()[1:].transpose(),2),linewidth=2,annot=True,fmt=\"f\")\n",
    "plt.xticks(fontsize=18)\n",
    "plt.yticks(fontsize=12)\n",
    "plt.title(\"Variable Summary\")\n",
    "plt.show()"
   ]
  },
  {
   "cell_type": "raw",
   "id": "164ddc25",
   "metadata": {},
   "source": [
    "From the above plotting, we can determine mean, standard deviation, minimum and maximum value of each column of the dataset.\n",
    "\n",
    "159571 rows\n",
    "8 columns\n",
    "\n",
    "malignant:\n",
    "    mean=0.095844\n",
    "    std=0.294379\n",
    "    max_value=1.000000\n",
    "    min_value=0.000000\n",
    "    \n",
    "highly_malignant:\n",
    "    mean=0.009996\n",
    "    std=0.099477\n",
    "    max_value=1.000000\n",
    "    min_value=0.000000\n",
    "    \n",
    "rude:\n",
    "    mean=0.052948\n",
    "    std=0.223931\n",
    "    max_value=1.000000\n",
    "    min_value=0.000000\n",
    "    \n",
    "threat:\n",
    "    mean=0.002996\n",
    "    std=0.054650\n",
    "    max_value=1.000000\n",
    "    min_value=0.000000\n",
    "    \n",
    "abuse:\n",
    "    mean=0.049364\n",
    "    std=0.216627\n",
    "    max_value=1.000000\n",
    "    min_value=0.000000\n",
    "    \n",
    "loathe:\n",
    "    mean=0.008805\n",
    "    std=0.093420\n",
    "    max_value=1.000000\n",
    "    min_value=0.000000"
   ]
  },
  {
   "cell_type": "code",
   "execution_count": null,
   "id": "12b95dc2",
   "metadata": {},
   "outputs": [],
   "source": [
    "print(train.info())\n",
    "print(\"\\n\")\n",
    "print(test.info())"
   ]
  },
  {
   "cell_type": "markdown",
   "id": "a81ecc4e",
   "metadata": {},
   "source": [
    "# Skewness:"
   ]
  },
  {
   "cell_type": "code",
   "execution_count": null,
   "id": "4d35d4ed",
   "metadata": {},
   "outputs": [],
   "source": [
    "train.skew()"
   ]
  },
  {
   "cell_type": "markdown",
   "id": "b6fe675f",
   "metadata": {},
   "source": [
    "All the columns of the dataset has skewness."
   ]
  },
  {
   "cell_type": "markdown",
   "id": "6a8a3bd7",
   "metadata": {},
   "source": [
    "# Normal Distribution Curve:"
   ]
  },
  {
   "cell_type": "code",
   "execution_count": null,
   "id": "8310be60",
   "metadata": {},
   "outputs": [],
   "source": [
    "sns.distplot(train['malignant'])"
   ]
  },
  {
   "cell_type": "markdown",
   "id": "dd1073a2",
   "metadata": {},
   "source": [
    "The data of the column is not normalized. The building blocks is out of the normalized curve."
   ]
  },
  {
   "cell_type": "code",
   "execution_count": null,
   "id": "1ebe6ee1",
   "metadata": {},
   "outputs": [],
   "source": [
    "sns.distplot(train['highly_malignant'])"
   ]
  },
  {
   "cell_type": "markdown",
   "id": "ba94e445",
   "metadata": {},
   "source": [
    "The data of the column is not normalized. The building blocks is out of the normalized curve."
   ]
  },
  {
   "cell_type": "code",
   "execution_count": null,
   "id": "4ad5ebf2",
   "metadata": {},
   "outputs": [],
   "source": [
    "sns.distplot(train['rude'])"
   ]
  },
  {
   "cell_type": "markdown",
   "id": "9324f99e",
   "metadata": {},
   "source": [
    "The data of the column is not normalized. The building blocks is out of the normalized curve."
   ]
  },
  {
   "cell_type": "code",
   "execution_count": null,
   "id": "9a721d98",
   "metadata": {},
   "outputs": [],
   "source": [
    "sns.distplot(train['threat'])"
   ]
  },
  {
   "cell_type": "markdown",
   "id": "c32adf06",
   "metadata": {},
   "source": [
    "The data of the column is not normalized. The building blocks is out of the normalized curve."
   ]
  },
  {
   "cell_type": "code",
   "execution_count": null,
   "id": "4818ae1b",
   "metadata": {},
   "outputs": [],
   "source": [
    "sns.distplot(train['abuse'])"
   ]
  },
  {
   "cell_type": "markdown",
   "id": "45ea5064",
   "metadata": {},
   "source": [
    "The data of the column is not normalized. The building blocks is out of the normalized curve."
   ]
  },
  {
   "cell_type": "code",
   "execution_count": null,
   "id": "53b6cc46",
   "metadata": {},
   "outputs": [],
   "source": [
    "sns.distplot(train['loathe'])"
   ]
  },
  {
   "cell_type": "markdown",
   "id": "9e543c4d",
   "metadata": {},
   "source": [
    "The data of the column is not normalized. The building blocks is out of the normalized curve."
   ]
  },
  {
   "cell_type": "code",
   "execution_count": null,
   "id": "049ea6b0",
   "metadata": {},
   "outputs": [],
   "source": [
    "#importing necessary libraries\n",
    "\n",
    "import nltk\n",
    "from nltk.corpus import stopwords\n",
    "from nltk.stem import WordNetLemmatizer\n",
    "import string"
   ]
  },
  {
   "cell_type": "code",
   "execution_count": null,
   "id": "98606d81",
   "metadata": {},
   "outputs": [],
   "source": [
    "train['length']=train['comment_text'].str.len()\n",
    "train"
   ]
  },
  {
   "cell_type": "code",
   "execution_count": null,
   "id": "dad30d42",
   "metadata": {},
   "outputs": [],
   "source": [
    "#convert all messages to lower case\n",
    "train['comment_text'] = train['comment_text'].str.lower()\n",
    "\n",
    "#Replace email address with 'email'\n",
    "train['comment_text'] = train['comment_text'].str.replace(r'^.+@[^\\.].*\\.[a-z]{2,}$', 'emailaddress')\n",
    "\n",
    "#Replace URLs with 'webaddress'\n",
    "train['comment_text'] = train['comment_text'].str.replace(r'^http\\://[a-zA-Z0-9\\-\\.]+\\.[a-zA-Z]{2,3}(/\\S*)?$', 'webaddress')\n",
    "\n",
    "#Replace money sumbols with 'moneysymb'\n",
    "train['comment_text'] = train['comment_text'].str.replace(r'£|\\$', 'dollars')\n",
    "\n",
    "#Replace 10 digit phone numbers with 'phonenumber'\n",
    "train['comment_text'] = train['comment_text'].str.replace(r'\\(?[\\d]{3}\\)?[\\s-]?[\\d]{3}[\\s-]?[\\d]{4}$', 'phonenumber')\n",
    "\n",
    "#Replace numbers with 'num'\n",
    "train['comment_text'] = train['comment_text'].str.replace(r'\\d+(\\.\\d+)?', 'num')\n",
    "\n",
    "train['comment_text'] = train['comment_text'].apply(lambda x: ''.join(term for term in x.split() if term not in string.punctuation))\n",
    "\n",
    "stop_words = set(stopwords.words('english') + ['u','ur','4','2','im','dont','doin','ure'])\n",
    "train['comment_text'] = train['comment_text'].apply(lambda x: ''.join(term for term in x.split() if term not in stop_words))\n",
    "\n",
    "lem=WordNetLemmatizer()\n",
    "train['comment_text'] = train['comment_text'].apply(lambda x: ''.join(lem.lemmatize(t) for t in x.split()))\n"
   ]
  },
  {
   "cell_type": "code",
   "execution_count": null,
   "id": "8bc638ad",
   "metadata": {},
   "outputs": [],
   "source": [
    "train['clean_length']=train.comment_text.str.len()\n",
    "train"
   ]
  },
  {
   "cell_type": "code",
   "execution_count": null,
   "id": "f1cfb6a9",
   "metadata": {},
   "outputs": [],
   "source": [
    "#total length removal\n",
    "print('Original Length: ', train.length.sum())\n",
    "print('Clean Length: ', train.clean_length.sum())"
   ]
  },
  {
   "cell_type": "code",
   "execution_count": null,
   "id": "cd1ec977",
   "metadata": {},
   "outputs": [],
   "source": [
    "#!pip install wordcloud"
   ]
  },
  {
   "cell_type": "code",
   "execution_count": null,
   "id": "b1f94bd4",
   "metadata": {},
   "outputs": [],
   "source": [
    "#offensive loud words\n",
    "from wordcloud import WordCloud\n",
    "hams = train['comment_text'][train['malignant']==1]\n",
    "spam_cloud = WordCloud(width=600, height=400, background_color='white',max_words=50).generate(''.join(hams))\n",
    "plt.figure(figsize=(10,8),facecolor='r')\n",
    "plt.imshow(spam_cloud)\n",
    "plt.axis('off')\n",
    "plt.tight_layout(pad=0)\n",
    "plt.show()"
   ]
  },
  {
   "cell_type": "code",
   "execution_count": null,
   "id": "b9f54e2c",
   "metadata": {},
   "outputs": [],
   "source": [
    "target_column=['malignant','highly_malignant','rude','threat','abuse','loathe']\n",
    "\n",
    "target=train[target_column]\n",
    "\n",
    "train['bad']=train[target_column].sum(axis=1)\n",
    "print(train['bad'].value_counts())\n",
    "train['bad']=train['bad']>0\n",
    "train['bad']=train['bad'].astype(int)\n",
    "print(train['bad'].value_counts())"
   ]
  },
  {
   "cell_type": "code",
   "execution_count": null,
   "id": "e198ef31",
   "metadata": {},
   "outputs": [],
   "source": [
    "sns.countplot(x='bad', data=train)\n",
    "print(train['bad'].value_counts())\n",
    "plt.show()"
   ]
  },
  {
   "cell_type": "code",
   "execution_count": null,
   "id": "91edd289",
   "metadata": {},
   "outputs": [],
   "source": [
    "train.head()"
   ]
  },
  {
   "cell_type": "code",
   "execution_count": null,
   "id": "aa6db1c7",
   "metadata": {},
   "outputs": [],
   "source": [
    "#converting text into vectors using TF-IDF\n",
    "\n",
    "from sklearn.feature_extraction.text import TfidfVectorizer\n",
    "tfidf= TfidfVectorizer(max_features=10000, stop_words='english')\n",
    "feature= tfidf.fit_transform(train['comment_text'])"
   ]
  },
  {
   "cell_type": "code",
   "execution_count": null,
   "id": "0a01098e",
   "metadata": {},
   "outputs": [],
   "source": [
    "print(train.shape)\n",
    "print(test.shape)"
   ]
  },
  {
   "cell_type": "markdown",
   "id": "9a4faf07",
   "metadata": {},
   "source": [
    "# Dividing Dataframe into feature and target"
   ]
  },
  {
   "cell_type": "code",
   "execution_count": null,
   "id": "5769544e",
   "metadata": {},
   "outputs": [],
   "source": [
    "x=feature\n",
    "y=train['bad']"
   ]
  },
  {
   "cell_type": "code",
   "execution_count": null,
   "id": "05625ff7",
   "metadata": {},
   "outputs": [],
   "source": [
    "y.value_counts()"
   ]
  },
  {
   "cell_type": "code",
   "execution_count": null,
   "id": "8570033d",
   "metadata": {},
   "outputs": [],
   "source": [
    "from imblearn.over_sampling import SMOTE\n",
    "sm=SMOTE()\n",
    "xtrain,ytrain=sm.fit_resample(x,y)"
   ]
  },
  {
   "cell_type": "code",
   "execution_count": null,
   "id": "a21ed0cb",
   "metadata": {},
   "outputs": [],
   "source": [
    "ytrain.value_counts()"
   ]
  },
  {
   "cell_type": "markdown",
   "id": "7947cc87",
   "metadata": {},
   "source": [
    "# Model Building"
   ]
  },
  {
   "cell_type": "code",
   "execution_count": null,
   "id": "5484348b",
   "metadata": {},
   "outputs": [],
   "source": [
    "from sklearn.model_selection import train_test_split\n",
    "from sklearn.linear_model import LogisticRegression\n",
    "from sklearn.model_selection import GridSearchCV\n",
    "from sklearn.metrics import accuracy_score,classification_report,confusion_matrix"
   ]
  },
  {
   "cell_type": "markdown",
   "id": "2efad248",
   "metadata": {},
   "source": [
    "# Logistic Regression:"
   ]
  },
  {
   "cell_type": "code",
   "execution_count": null,
   "id": "aaf67aa9",
   "metadata": {},
   "outputs": [],
   "source": [
    "lg=LogisticRegression()\n",
    "\n",
    "train_x,test_x,train_y,test_y=train_test_split(xtrain,ytrain,test_size=0.20,random_state=45)\n",
    "lg.fit(train_x,train_y)\n",
    "pred_train=lg.predict(train_x)\n",
    "pred_test=lg.predict(test_x)\n",
    "\n",
    "print(\"Training Accuracy:\",accuracy_score(train_y,pred_train)*100)\n",
    "print(\"Testing Accuracy:\",accuracy_score(test_y,pred_test)*100)"
   ]
  },
  {
   "cell_type": "markdown",
   "id": "cc8f0905",
   "metadata": {},
   "source": [
    "Cross Validation for logistic regression:"
   ]
  },
  {
   "cell_type": "code",
   "execution_count": null,
   "id": "296b40ae",
   "metadata": {},
   "outputs": [],
   "source": [
    "from sklearn.model_selection import cross_val_score\n",
    "\n",
    "lg.fit(train_x,train_y)\n",
    "lg.score(train_x,train_y)\n",
    "pred_lg = lg.predict(test_x)\n",
    "\n",
    "lss = accuracy_score(test_y,pred_lg)\n",
    "for j in range(2,10):\n",
    "    lsscore = cross_val_score(lg,xtrain,ytrain,cv=j)\n",
    "    ls_cv = lsscore.mean() \n",
    "    print(\"At cv:-\",j)\n",
    "    print(\"Cross validation score is:-\",ls_cv*100 )\n",
    "    print(\"Accuracy score is :-\",lss*100)\n",
    "    print(\"\\n\")"
   ]
  },
  {
   "cell_type": "code",
   "execution_count": null,
   "id": "606b3c56",
   "metadata": {},
   "outputs": [],
   "source": [
    "print(\"At cv:\",9)\n",
    "print(\"Cross validation score is:\",74.33099030511153)\n",
    "print(\"Accuracy score is :\",74.33858281448926)"
   ]
  },
  {
   "cell_type": "markdown",
   "id": "7fd8994a",
   "metadata": {},
   "source": [
    "AUC-ROC Curve:"
   ]
  },
  {
   "cell_type": "code",
   "execution_count": null,
   "id": "416ae06e",
   "metadata": {},
   "outputs": [],
   "source": [
    "from sklearn.metrics import roc_curve,auc\n",
    "fpr,tpr,thresholds=roc_curve(pred_lg,test_y)\n",
    "roc_auc=auc(fpr,tpr)\n",
    "plt.figure()\n",
    "plt.plot(fpr,tpr,color='darkorange',lw=10,label='ROC Curve(area=%0.2f)'%roc_auc)\n",
    "plt.plot([0,1],[0,1],color='navy',lw=10,linestyle='--')\n",
    "plt.xlim([0.0,1.0])\n",
    "plt.ylim([0.0,1.05])\n",
    "plt.xlabel('False Positive Rate')\n",
    "plt.ylabel('True Positive Rate')\n",
    "plt.title('LOGISTIC REGRESSION')\n",
    "plt.legend(loc=\"lower right\")\n",
    "plt.show()"
   ]
  },
  {
   "cell_type": "markdown",
   "id": "796a33f7",
   "metadata": {},
   "source": [
    "# Approaching more classifiers:"
   ]
  },
  {
   "cell_type": "code",
   "execution_count": null,
   "id": "fb4e2766",
   "metadata": {},
   "outputs": [],
   "source": [
    "from sklearn.tree import DecisionTreeClassifier\n",
    "from sklearn.neighbors import KNeighborsClassifier"
   ]
  },
  {
   "cell_type": "markdown",
   "id": "902a74d2",
   "metadata": {},
   "source": [
    "# 1.Decision Tree Classifier:"
   ]
  },
  {
   "cell_type": "code",
   "execution_count": null,
   "id": "e15e5875",
   "metadata": {},
   "outputs": [],
   "source": [
    "parameters = {'criterion':['gini', 'entropy'],'splitter':['best','random']}\n",
    "dtc = DecisionTreeClassifier()\n",
    "clf = GridSearchCV(dtc,parameters)\n",
    "clf.fit(train_x,train_y)\n",
    "\n",
    "print(clf.best_params_)"
   ]
  },
  {
   "cell_type": "code",
   "execution_count": null,
   "id": "1eddf6e1",
   "metadata": {},
   "outputs": [],
   "source": [
    "dtc = DecisionTreeClassifier(criterion='gini', splitter='best')\n",
    "dtc.fit(train_x,train_y)\n",
    "dtc.score(train_x,train_y)\n",
    "pred_dtc = dtc.predict(test_x)\n",
    "\n",
    "print(\"Accuracy Score:\",accuracy_score(test_y,pred_dtc)*100)\n",
    "print(\"Classification report:\",classification_report(test_y,pred_dtc)*100)\n",
    "print(\"Confusion Matrix:\",confusion_matrix(test_y,pred_dtc)*100)\n",
    "\n",
    "dtc_score = cross_val_score(dtc,xtrain,ytrain,cv=9)\n",
    "dtc_cc = dtc_score.mean() \n",
    "print('Cross Val Score:',dtc_cc*100)"
   ]
  },
  {
   "cell_type": "markdown",
   "id": "82426945",
   "metadata": {},
   "source": [
    "AUC-ROC Curve:"
   ]
  },
  {
   "cell_type": "code",
   "execution_count": null,
   "id": "474e8b9f",
   "metadata": {},
   "outputs": [],
   "source": [
    "from sklearn.metrics import roc_curve,auc\n",
    "fpr,tpr,thresholds=roc_curve(pred_dtc,test_y)\n",
    "roc_auc=auc(fpr,tpr)\n",
    "plt.figure()\n",
    "plt.plot(fpr,tpr,color='darkorange',lw=10,label='ROC Curve(area=%0.2f)'%roc_auc)\n",
    "plt.plot([0,1],[0,1],color='navy',lw=10,linestyle='--')\n",
    "plt.xlim([0.0,1.0])\n",
    "plt.ylim([0.0,1.05])\n",
    "plt.xlabel('False Positive Rate')\n",
    "plt.ylabel('True Positive Rate')\n",
    "plt.title('Decision Tree Classifier')\n",
    "plt.legend(loc=\"lower right\")\n",
    "plt.show()"
   ]
  },
  {
   "cell_type": "markdown",
   "id": "50794c38",
   "metadata": {},
   "source": [
    "# 2.KNeighbors Classifier:"
   ]
  },
  {
   "cell_type": "code",
   "execution_count": null,
   "id": "fe4b632c",
   "metadata": {},
   "outputs": [],
   "source": [
    "parameters = {'algorithm':['auto', 'ball_tree', 'kd_tree', 'brute']}\n",
    "knc = KNeighborsClassifier()\n",
    "clf = GridSearchCV(knc,parameters)\n",
    "clf.fit(train_x,train_y)\n",
    "\n",
    "print(clf.best_params_)"
   ]
  },
  {
   "cell_type": "code",
   "execution_count": null,
   "id": "2208ef06",
   "metadata": {},
   "outputs": [],
   "source": [
    "knc = KNeighborsClassifier(algorithm='auto', n_neighbors=5)\n",
    "knc.fit(train_x,train_y)\n",
    "knc.score(train_x,train_y)\n",
    "pred_knc = knc.predict(test_x)\n",
    "\n",
    "print(\"Accuracy Score:\",accuracy_score(test_y,pred_knc)*100)\n",
    "print(\"Classification report:\",classification_report(test_y,pred_knc)*100)\n",
    "print(\"Confusion Matrix:\",confusion_matrix(test_y,pred_knc)*100)\n",
    "\n",
    "knc_score = cross_val_score(knc,xtrain,ytrain,cv=9)\n",
    "knc_cc = knc_score.mean() \n",
    "print('Cross Val Score:',knc_cc*100)"
   ]
  },
  {
   "cell_type": "markdown",
   "id": "badea456",
   "metadata": {},
   "source": [
    "AUC-ROC Curve:"
   ]
  },
  {
   "cell_type": "code",
   "execution_count": null,
   "id": "01cd5c15",
   "metadata": {},
   "outputs": [],
   "source": [
    "from sklearn.metrics import roc_curve,auc\n",
    "fpr,tpr,thresholds=roc_curve(pred_knc,test_y)\n",
    "roc_auc=auc(fpr,tpr)\n",
    "plt.figure()\n",
    "plt.plot(fpr,tpr,color='darkorange',lw=10,label='ROC Curve(area=%0.2f)'%roc_auc)\n",
    "plt.plot([0,1],[0,1],color='navy',lw=10,linestyle='--')\n",
    "plt.xlim([0.0,1.0])\n",
    "plt.ylim([0.0,1.05])\n",
    "plt.xlabel('False Positive Rate')\n",
    "plt.ylabel('True Positive Rate')\n",
    "plt.title('KNeighbors Classifier')\n",
    "plt.legend(loc=\"lower right\")\n",
    "plt.show()"
   ]
  },
  {
   "cell_type": "markdown",
   "id": "3681ef01",
   "metadata": {},
   "source": [
    "# ENSEMBLE METHODS:"
   ]
  },
  {
   "cell_type": "code",
   "execution_count": null,
   "id": "413aa7de",
   "metadata": {},
   "outputs": [],
   "source": [
    "from sklearn.ensemble import RandomForestClassifier\n",
    "from sklearn.ensemble import AdaBoostClassifier\n",
    "from sklearn.ensemble import GradientBoostingClassifier"
   ]
  },
  {
   "cell_type": "markdown",
   "id": "02f3306b",
   "metadata": {},
   "source": [
    "# 1.Random Forest Classifier:"
   ]
  },
  {
   "cell_type": "code",
   "execution_count": null,
   "id": "a4b80d91",
   "metadata": {},
   "outputs": [],
   "source": [
    "parameters = {'criterion':['gini', 'entropy'],'n_estimators':[100]}\n",
    "rfc = RandomForestClassifier()\n",
    "clf = GridSearchCV(rfc,parameters)\n",
    "clf.fit(train_x,train_y)\n",
    "\n",
    "print(clf.best_params_)"
   ]
  },
  {
   "cell_type": "code",
   "execution_count": null,
   "id": "962adbd5",
   "metadata": {},
   "outputs": [],
   "source": [
    "rfc = RandomForestClassifier(criterion='entropy', n_estimators=100)\n",
    "rfc.fit(train_x,train_y)\n",
    "rfc.score(train_x,train_y)\n",
    "pred_rfc = rfc.predict(test_x)\n",
    "\n",
    "print(\"Accuracy Score:\",accuracy_score(test_y,pred_rfc)*100)\n",
    "print(\"Classification report:\",classification_report(test_y,pred_rfc)*100)\n",
    "print(\"Confusion Matrix:\",confusion_matrix(test_y,pred_rfc)*100)\n",
    "\n",
    "rfc_score = cross_val_score(rfc,xtrain,ytrain,cv=9)\n",
    "rfc_cc = rfc_score.mean() \n",
    "print('Cross Val Score:',rfc_cc*100)"
   ]
  },
  {
   "cell_type": "markdown",
   "id": "1cca55b4",
   "metadata": {},
   "source": [
    "AUC-ROC Curve"
   ]
  },
  {
   "cell_type": "code",
   "execution_count": null,
   "id": "40db7232",
   "metadata": {},
   "outputs": [],
   "source": [
    "from sklearn.metrics import roc_curve,auc\n",
    "fpr,tpr,thresholds=roc_curve(pred_rfc,test_y)\n",
    "roc_auc=auc(fpr,tpr)\n",
    "plt.figure()\n",
    "plt.plot(fpr,tpr,color='darkorange',lw=10,label='ROC Curve(area=%0.2f)'%roc_auc)\n",
    "plt.plot([0,1],[0,1],color='navy',lw=10,linestyle='--')\n",
    "plt.xlim([0.0,1.0])\n",
    "plt.ylim([0.0,1.05])\n",
    "plt.xlabel('False Positive Rate')\n",
    "plt.ylabel('True Positive Rate')\n",
    "plt.title('Random Forest Classifier')\n",
    "plt.legend(loc=\"lower right\")\n",
    "plt.show()"
   ]
  },
  {
   "cell_type": "markdown",
   "id": "52d59e6b",
   "metadata": {},
   "source": [
    "# 2.Ada Boost Classifier:"
   ]
  },
  {
   "cell_type": "code",
   "execution_count": null,
   "id": "bfd3cec3",
   "metadata": {},
   "outputs": [],
   "source": [
    "abc = AdaBoostClassifier(n_estimators=50, learning_rate=1.0, algorithm='SAMME')\n",
    "abc.fit(train_x,train_y)\n",
    "abc.score(train_x,train_y)\n",
    "pred_abc = abc.predict(test_x)\n",
    "\n",
    "print(\"Accuracy Score:\",accuracy_score(test_y,pred_abc)*100)\n",
    "print(\"Classification report:\",classification_report(test_y,pred_abc)*100)\n",
    "print(\"Confusion Matrix:\",confusion_matrix(test_y,pred_abc)*100)\n",
    "\n",
    "abc_score = cross_val_score(abc,xtrain,ytrain,cv=9)\n",
    "abc_cc = abc_score.mean() \n",
    "print('Cross Val Score:',abc_cc*100)"
   ]
  },
  {
   "cell_type": "markdown",
   "id": "753140ab",
   "metadata": {},
   "source": [
    "AUC-ROC Curve"
   ]
  },
  {
   "cell_type": "code",
   "execution_count": null,
   "id": "073ab986",
   "metadata": {},
   "outputs": [],
   "source": [
    "from sklearn.metrics import roc_curve,auc\n",
    "fpr,tpr,thresholds=roc_curve(pred_abc,test_y)\n",
    "roc_auc=auc(fpr,tpr)\n",
    "plt.figure()\n",
    "plt.plot(fpr,tpr,color='darkorange',lw=10,label='ROC Curve(area=%0.2f)'%roc_auc)\n",
    "plt.plot([0,1],[0,1],color='navy',lw=10,linestyle='--')\n",
    "plt.xlim([0.0,1.0])\n",
    "plt.ylim([0.0,1.05])\n",
    "plt.xlabel('False Positive Rate')\n",
    "plt.ylabel('True Positive Rate')\n",
    "plt.title('Ada Boost Classifier')\n",
    "plt.legend(loc=\"lower right\")\n",
    "plt.show()"
   ]
  },
  {
   "cell_type": "markdown",
   "id": "37888a89",
   "metadata": {},
   "source": [
    "# 3.Gradient Boosting Classifier:"
   ]
  },
  {
   "cell_type": "code",
   "execution_count": null,
   "id": "4f4b95fc",
   "metadata": {},
   "outputs": [],
   "source": [
    "gbc = GradientBoostingClassifier(criterion='mse', n_estimators=100, learning_rate=0.1, loss='deviance')\n",
    "gbc.fit(train_x,train_y)\n",
    "gbc.score(train_x,train_y)\n",
    "pred_gbc = gbc.predict(test_x)\n",
    "\n",
    "print(\"Accuracy Score:\",accuracy_score(test_y,pred_gbc)*100)\n",
    "print(\"Classification report:\",classification_report(test_y,pred_gbc)*100)\n",
    "print(\"Confusion Matrix:\",confusion_matrix(test_y,pred_gbc)*100)\n",
    "\n",
    "gbc_score = cross_val_score(gbc,xtrain,ytrain,cv=9)\n",
    "gbc_cc = gbc_score.mean() \n",
    "print('Cross Val Score:',gbc_cc*100)"
   ]
  },
  {
   "cell_type": "markdown",
   "id": "d25f636c",
   "metadata": {},
   "source": [
    "AUC-ROC Curve:"
   ]
  },
  {
   "cell_type": "code",
   "execution_count": null,
   "id": "2157de77",
   "metadata": {},
   "outputs": [],
   "source": [
    "from sklearn.metrics import roc_curve,auc\n",
    "fpr,tpr,thresholds=roc_curve(pred_gbc,test_y)\n",
    "roc_auc=auc(fpr,tpr)\n",
    "plt.figure()\n",
    "plt.plot(fpr,tpr,color='darkorange',lw=10,label='ROC Curve(area=%0.2f)'%roc_auc)\n",
    "plt.plot([0,1],[0,1],color='navy',lw=10,linestyle='--')\n",
    "plt.xlim([0.0,1.0])\n",
    "plt.ylim([0.0,1.05])\n",
    "plt.xlabel('False Positive Rate')\n",
    "plt.ylabel('True Positive Rate')\n",
    "plt.title('Gradient Boosting Classifier')\n",
    "plt.legend(loc=\"lower right\")\n",
    "plt.show()"
   ]
  },
  {
   "cell_type": "markdown",
   "id": "e478086e",
   "metadata": {},
   "source": [
    "# XGBOOST:"
   ]
  },
  {
   "cell_type": "code",
   "execution_count": null,
   "id": "43fe7100",
   "metadata": {},
   "outputs": [],
   "source": [
    "#!pip install xgboost"
   ]
  },
  {
   "cell_type": "code",
   "execution_count": null,
   "id": "e2001c7e",
   "metadata": {},
   "outputs": [],
   "source": [
    "import xgboost\n",
    "\n",
    "xgb = xgboost.XGBClassifier()\n",
    "xgb.fit(train_x,train_y)\n",
    "xgb.score(train_x,train_y)\n",
    "pred_xgb = xgb.predict(test_x)\n",
    "\n",
    "print(\"Accuracy Score:\",accuracy_score(test_y,pred_xgb)*100)\n",
    "print(\"Classification report:\",classification_report(test_y,pred_xgb)*100)\n",
    "print(\"Confusion Matrix:\",confusion_matrix(test_y,pred_xgb)*100)\n",
    "\n",
    "xgb_score = cross_val_score(xgb,xtrain,ytrain,cv=9)\n",
    "xgb_cc = gbc_score.mean() \n",
    "print('Cross Val Score:',xgb_cc*100)"
   ]
  },
  {
   "cell_type": "markdown",
   "id": "34e11196",
   "metadata": {},
   "source": [
    "AUC-ROC Curve:"
   ]
  },
  {
   "cell_type": "code",
   "execution_count": null,
   "id": "a26b3b40",
   "metadata": {},
   "outputs": [],
   "source": [
    "from sklearn.metrics import roc_curve,auc\n",
    "fpr,tpr,thresholds=roc_curve(pred_xgb,test_y)\n",
    "roc_auc=auc(fpr,tpr)\n",
    "plt.figure()\n",
    "plt.plot(fpr,tpr,color='darkorange',lw=10,label='ROC Curve(area=%0.2f)'%roc_auc)\n",
    "plt.plot([0,1],[0,1],color='navy',lw=10,linestyle='--')\n",
    "plt.xlim([0.0,1.0])\n",
    "plt.ylim([0.0,1.05])\n",
    "plt.xlabel('False Positive Rate')\n",
    "plt.ylabel('True Positive Rate')\n",
    "plt.title('XGBoost Classifier')\n",
    "plt.legend(loc=\"lower right\")\n",
    "plt.show()"
   ]
  },
  {
   "cell_type": "markdown",
   "id": "75626c23",
   "metadata": {},
   "source": [
    "# The best model is Random Forest Classifier. Since the difference between the percentage score of cross validation,accuracy_score and ROC Curve is optimum."
   ]
  },
  {
   "cell_type": "markdown",
   "id": "e45727c4",
   "metadata": {},
   "source": [
    "# Model Saving:"
   ]
  },
  {
   "cell_type": "code",
   "execution_count": null,
   "id": "ff4f8b86",
   "metadata": {},
   "outputs": [],
   "source": [
    "import pickle\n",
    "filename='malign-comment.pkl'\n",
    "pickle.dump(rfc,open(filename,'wb'))"
   ]
  },
  {
   "cell_type": "markdown",
   "id": "26ef1be6",
   "metadata": {},
   "source": [
    "# Coclusion:"
   ]
  },
  {
   "cell_type": "code",
   "execution_count": null,
   "id": "99a50ba8",
   "metadata": {},
   "outputs": [],
   "source": [
    "import numpy as np\n",
    "a=np.array(test_y)\n",
    "predicted=np.array(rfc.predict(test_x))\n",
    "mal_con=pd.DataFrame({\"original\":a,\"predicted\":predicted},index=range(len(a)))\n",
    "mal_con"
   ]
  },
  {
   "cell_type": "markdown",
   "id": "19e5b38d",
   "metadata": {},
   "source": [
    "From the above table, the model is predicted with 78 percent accuracy.\n"
   ]
  },
  {
   "cell_type": "code",
   "execution_count": null,
   "id": "864cbab5",
   "metadata": {},
   "outputs": [],
   "source": [
    "#Converting test dataset into vector\n",
    "\n",
    "test1=tfidf.fit_transform(test['comment_text'])\n",
    "test1"
   ]
  },
  {
   "cell_type": "code",
   "execution_count": null,
   "id": "e0423273",
   "metadata": {},
   "outputs": [],
   "source": [
    "#predicting test dataset using chosen model\n",
    "\n",
    "pred = rfc.predict(test1)\n",
    "pred"
   ]
  },
  {
   "cell_type": "code",
   "execution_count": null,
   "id": "a4973280",
   "metadata": {},
   "outputs": [],
   "source": [
    "#creating dataset with predicted output\n",
    "\n",
    "test['Predicted Output'] = pred\n",
    "test"
   ]
  },
  {
   "cell_type": "code",
   "execution_count": null,
   "id": "1b33a388",
   "metadata": {},
   "outputs": [],
   "source": [
    "#converting into csv file\n",
    "\n",
    "test.to_csv('Test.csv', index = False)"
   ]
  },
  {
   "cell_type": "code",
   "execution_count": null,
   "id": "7d0da30e",
   "metadata": {},
   "outputs": [],
   "source": [
    "#downloading the csv file\n",
    "\n",
    "test.to_csv(r'C:\\Users\\DELL\\Downloads\\Test.csv')"
   ]
  },
  {
   "cell_type": "code",
   "execution_count": null,
   "id": "cf432ebf",
   "metadata": {},
   "outputs": [],
   "source": []
  }
 ],
 "metadata": {
  "kernelspec": {
   "display_name": "Python 3",
   "language": "python",
   "name": "python3"
  },
  "language_info": {
   "codemirror_mode": {
    "name": "ipython",
    "version": 3
   },
   "file_extension": ".py",
   "mimetype": "text/x-python",
   "name": "python",
   "nbconvert_exporter": "python",
   "pygments_lexer": "ipython3",
   "version": "3.8.8"
  }
 },
 "nbformat": 4,
 "nbformat_minor": 5
}
