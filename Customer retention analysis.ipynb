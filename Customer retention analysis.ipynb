{
 "cells": [
  {
   "cell_type": "code",
   "execution_count": 1,
   "metadata": {},
   "outputs": [],
   "source": [
    "#importing required libraries\n",
    "import pandas as pd\n",
    "import numpy as np\n",
    "import matplotlib.pyplot as plt\n",
    "import seaborn as sns\n",
    "%matplotlib inline\n",
    "\n",
    "#Display all the columns of the dataframe\n",
    "pd.pandas.set_option('display.max_columns',None)\n",
    "\n",
    "#importing warnings\n",
    "import warnings\n",
    "warnings.filterwarnings('ignore')"
   ]
  },
  {
   "cell_type": "code",
   "execution_count": 2,
   "metadata": {},
   "outputs": [
    {
     "ename": "FileNotFoundError",
     "evalue": "[Errno 2] No such file or directory: 'customer_retention_dataset.xlsx'",
     "output_type": "error",
     "traceback": [
      "\u001b[1;31m---------------------------------------------------------------------------\u001b[0m",
      "\u001b[1;31mFileNotFoundError\u001b[0m                         Traceback (most recent call last)",
      "\u001b[1;32m<ipython-input-2-0a8ccae75ef1>\u001b[0m in \u001b[0;36m<module>\u001b[1;34m\u001b[0m\n\u001b[0;32m      1\u001b[0m \u001b[1;31m#loading the dataset\u001b[0m\u001b[1;33m\u001b[0m\u001b[1;33m\u001b[0m\u001b[1;33m\u001b[0m\u001b[0m\n\u001b[1;32m----> 2\u001b[1;33m \u001b[0mdf\u001b[0m\u001b[1;33m=\u001b[0m\u001b[0mpd\u001b[0m\u001b[1;33m.\u001b[0m\u001b[0mread_excel\u001b[0m\u001b[1;33m(\u001b[0m\u001b[1;34m\"customer_retention_dataset.xlsx\"\u001b[0m\u001b[1;33m)\u001b[0m\u001b[1;33m\u001b[0m\u001b[1;33m\u001b[0m\u001b[0m\n\u001b[0m\u001b[0;32m      3\u001b[0m \u001b[0mdf\u001b[0m\u001b[1;33m\u001b[0m\u001b[1;33m\u001b[0m\u001b[0m\n",
      "\u001b[1;32m~\\anaconda3\\lib\\site-packages\\pandas\\util\\_decorators.py\u001b[0m in \u001b[0;36mwrapper\u001b[1;34m(*args, **kwargs)\u001b[0m\n\u001b[0;32m    297\u001b[0m                 )\n\u001b[0;32m    298\u001b[0m                 \u001b[0mwarnings\u001b[0m\u001b[1;33m.\u001b[0m\u001b[0mwarn\u001b[0m\u001b[1;33m(\u001b[0m\u001b[0mmsg\u001b[0m\u001b[1;33m,\u001b[0m \u001b[0mFutureWarning\u001b[0m\u001b[1;33m,\u001b[0m \u001b[0mstacklevel\u001b[0m\u001b[1;33m=\u001b[0m\u001b[0mstacklevel\u001b[0m\u001b[1;33m)\u001b[0m\u001b[1;33m\u001b[0m\u001b[1;33m\u001b[0m\u001b[0m\n\u001b[1;32m--> 299\u001b[1;33m             \u001b[1;32mreturn\u001b[0m \u001b[0mfunc\u001b[0m\u001b[1;33m(\u001b[0m\u001b[1;33m*\u001b[0m\u001b[0margs\u001b[0m\u001b[1;33m,\u001b[0m \u001b[1;33m**\u001b[0m\u001b[0mkwargs\u001b[0m\u001b[1;33m)\u001b[0m\u001b[1;33m\u001b[0m\u001b[1;33m\u001b[0m\u001b[0m\n\u001b[0m\u001b[0;32m    300\u001b[0m \u001b[1;33m\u001b[0m\u001b[0m\n\u001b[0;32m    301\u001b[0m         \u001b[1;32mreturn\u001b[0m \u001b[0mwrapper\u001b[0m\u001b[1;33m\u001b[0m\u001b[1;33m\u001b[0m\u001b[0m\n",
      "\u001b[1;32m~\\anaconda3\\lib\\site-packages\\pandas\\io\\excel\\_base.py\u001b[0m in \u001b[0;36mread_excel\u001b[1;34m(io, sheet_name, header, names, index_col, usecols, squeeze, dtype, engine, converters, true_values, false_values, skiprows, nrows, na_values, keep_default_na, na_filter, verbose, parse_dates, date_parser, thousands, comment, skipfooter, convert_float, mangle_dupe_cols, storage_options)\u001b[0m\n\u001b[0;32m    334\u001b[0m     \u001b[1;32mif\u001b[0m \u001b[1;32mnot\u001b[0m \u001b[0misinstance\u001b[0m\u001b[1;33m(\u001b[0m\u001b[0mio\u001b[0m\u001b[1;33m,\u001b[0m \u001b[0mExcelFile\u001b[0m\u001b[1;33m)\u001b[0m\u001b[1;33m:\u001b[0m\u001b[1;33m\u001b[0m\u001b[1;33m\u001b[0m\u001b[0m\n\u001b[0;32m    335\u001b[0m         \u001b[0mshould_close\u001b[0m \u001b[1;33m=\u001b[0m \u001b[1;32mTrue\u001b[0m\u001b[1;33m\u001b[0m\u001b[1;33m\u001b[0m\u001b[0m\n\u001b[1;32m--> 336\u001b[1;33m         \u001b[0mio\u001b[0m \u001b[1;33m=\u001b[0m \u001b[0mExcelFile\u001b[0m\u001b[1;33m(\u001b[0m\u001b[0mio\u001b[0m\u001b[1;33m,\u001b[0m \u001b[0mstorage_options\u001b[0m\u001b[1;33m=\u001b[0m\u001b[0mstorage_options\u001b[0m\u001b[1;33m,\u001b[0m \u001b[0mengine\u001b[0m\u001b[1;33m=\u001b[0m\u001b[0mengine\u001b[0m\u001b[1;33m)\u001b[0m\u001b[1;33m\u001b[0m\u001b[1;33m\u001b[0m\u001b[0m\n\u001b[0m\u001b[0;32m    337\u001b[0m     \u001b[1;32melif\u001b[0m \u001b[0mengine\u001b[0m \u001b[1;32mand\u001b[0m \u001b[0mengine\u001b[0m \u001b[1;33m!=\u001b[0m \u001b[0mio\u001b[0m\u001b[1;33m.\u001b[0m\u001b[0mengine\u001b[0m\u001b[1;33m:\u001b[0m\u001b[1;33m\u001b[0m\u001b[1;33m\u001b[0m\u001b[0m\n\u001b[0;32m    338\u001b[0m         raise ValueError(\n",
      "\u001b[1;32m~\\anaconda3\\lib\\site-packages\\pandas\\io\\excel\\_base.py\u001b[0m in \u001b[0;36m__init__\u001b[1;34m(self, path_or_buffer, engine, storage_options)\u001b[0m\n\u001b[0;32m   1069\u001b[0m                 \u001b[0mext\u001b[0m \u001b[1;33m=\u001b[0m \u001b[1;34m\"xls\"\u001b[0m\u001b[1;33m\u001b[0m\u001b[1;33m\u001b[0m\u001b[0m\n\u001b[0;32m   1070\u001b[0m             \u001b[1;32melse\u001b[0m\u001b[1;33m:\u001b[0m\u001b[1;33m\u001b[0m\u001b[1;33m\u001b[0m\u001b[0m\n\u001b[1;32m-> 1071\u001b[1;33m                 ext = inspect_excel_format(\n\u001b[0m\u001b[0;32m   1072\u001b[0m                     \u001b[0mcontent\u001b[0m\u001b[1;33m=\u001b[0m\u001b[0mpath_or_buffer\u001b[0m\u001b[1;33m,\u001b[0m \u001b[0mstorage_options\u001b[0m\u001b[1;33m=\u001b[0m\u001b[0mstorage_options\u001b[0m\u001b[1;33m\u001b[0m\u001b[1;33m\u001b[0m\u001b[0m\n\u001b[0;32m   1073\u001b[0m                 )\n",
      "\u001b[1;32m~\\anaconda3\\lib\\site-packages\\pandas\\io\\excel\\_base.py\u001b[0m in \u001b[0;36minspect_excel_format\u001b[1;34m(path, content, storage_options)\u001b[0m\n\u001b[0;32m    947\u001b[0m     \u001b[1;32massert\u001b[0m \u001b[0mcontent_or_path\u001b[0m \u001b[1;32mis\u001b[0m \u001b[1;32mnot\u001b[0m \u001b[1;32mNone\u001b[0m\u001b[1;33m\u001b[0m\u001b[1;33m\u001b[0m\u001b[0m\n\u001b[0;32m    948\u001b[0m \u001b[1;33m\u001b[0m\u001b[0m\n\u001b[1;32m--> 949\u001b[1;33m     with get_handle(\n\u001b[0m\u001b[0;32m    950\u001b[0m         \u001b[0mcontent_or_path\u001b[0m\u001b[1;33m,\u001b[0m \u001b[1;34m\"rb\"\u001b[0m\u001b[1;33m,\u001b[0m \u001b[0mstorage_options\u001b[0m\u001b[1;33m=\u001b[0m\u001b[0mstorage_options\u001b[0m\u001b[1;33m,\u001b[0m \u001b[0mis_text\u001b[0m\u001b[1;33m=\u001b[0m\u001b[1;32mFalse\u001b[0m\u001b[1;33m\u001b[0m\u001b[1;33m\u001b[0m\u001b[0m\n\u001b[0;32m    951\u001b[0m     ) as handle:\n",
      "\u001b[1;32m~\\anaconda3\\lib\\site-packages\\pandas\\io\\common.py\u001b[0m in \u001b[0;36mget_handle\u001b[1;34m(path_or_buf, mode, encoding, compression, memory_map, is_text, errors, storage_options)\u001b[0m\n\u001b[0;32m    649\u001b[0m         \u001b[1;32melse\u001b[0m\u001b[1;33m:\u001b[0m\u001b[1;33m\u001b[0m\u001b[1;33m\u001b[0m\u001b[0m\n\u001b[0;32m    650\u001b[0m             \u001b[1;31m# Binary mode\u001b[0m\u001b[1;33m\u001b[0m\u001b[1;33m\u001b[0m\u001b[1;33m\u001b[0m\u001b[0m\n\u001b[1;32m--> 651\u001b[1;33m             \u001b[0mhandle\u001b[0m \u001b[1;33m=\u001b[0m \u001b[0mopen\u001b[0m\u001b[1;33m(\u001b[0m\u001b[0mhandle\u001b[0m\u001b[1;33m,\u001b[0m \u001b[0mioargs\u001b[0m\u001b[1;33m.\u001b[0m\u001b[0mmode\u001b[0m\u001b[1;33m)\u001b[0m\u001b[1;33m\u001b[0m\u001b[1;33m\u001b[0m\u001b[0m\n\u001b[0m\u001b[0;32m    652\u001b[0m         \u001b[0mhandles\u001b[0m\u001b[1;33m.\u001b[0m\u001b[0mappend\u001b[0m\u001b[1;33m(\u001b[0m\u001b[0mhandle\u001b[0m\u001b[1;33m)\u001b[0m\u001b[1;33m\u001b[0m\u001b[1;33m\u001b[0m\u001b[0m\n\u001b[0;32m    653\u001b[0m \u001b[1;33m\u001b[0m\u001b[0m\n",
      "\u001b[1;31mFileNotFoundError\u001b[0m: [Errno 2] No such file or directory: 'customer_retention_dataset.xlsx'"
     ]
    }
   ],
   "source": [
    "#loading the dataset\n",
    "df=pd.read_excel(\"customer_retention_dataset.xlsx\")\n",
    "df"
   ]
  },
  {
   "cell_type": "code",
   "execution_count": null,
   "metadata": {},
   "outputs": [],
   "source": [
    "#checking the shape\n",
    "df.shape"
   ]
  },
  {
   "cell_type": "markdown",
   "metadata": {},
   "source": [
    "Observation:\n",
    "\n",
    "    There are 269 rows and 71 columns present in the dataset."
   ]
  },
  {
   "cell_type": "code",
   "execution_count": null,
   "metadata": {},
   "outputs": [],
   "source": [
    "#checking columns\n",
    "df.columns"
   ]
  },
  {
   "cell_type": "code",
   "execution_count": null,
   "metadata": {},
   "outputs": [],
   "source": [
    "#checking data types of columns\n",
    "df.dtypes"
   ]
  },
  {
   "cell_type": "markdown",
   "metadata": {},
   "source": [
    "Observation:\n",
    "    \n",
    "    1. There are two types of data present in the dataset pin column is numerical rest all are categorical."
   ]
  },
  {
   "cell_type": "code",
   "execution_count": null,
   "metadata": {},
   "outputs": [],
   "source": [
    "#checking the information of columns\n",
    "df.info()"
   ]
  },
  {
   "cell_type": "markdown",
   "metadata": {},
   "source": [
    "## Exploring categorical columns"
   ]
  },
  {
   "cell_type": "code",
   "execution_count": null,
   "metadata": {},
   "outputs": [],
   "source": [
    "#exploring categorical columns\n",
    "for column in df.columns:\n",
    "    if df[column].dtypes == object:\n",
    "        print(str(column) + ' : ' + str(df[column].unique()))\n",
    "        print(df[column].value_counts())\n",
    "        print('*******************************************************************************************************')\n",
    "        print('\\n')"
   ]
  },
  {
   "cell_type": "markdown",
   "metadata": {},
   "source": [
    "## Checking missing values"
   ]
  },
  {
   "cell_type": "code",
   "execution_count": null,
   "metadata": {},
   "outputs": [],
   "source": [
    "#checking if missing values present\n",
    "df.isnull().values.any()"
   ]
  },
  {
   "cell_type": "markdown",
   "metadata": {},
   "source": [
    "Observation:\n",
    "    \n",
    "    There are no missing values present in the dataset."
   ]
  },
  {
   "cell_type": "code",
   "execution_count": null,
   "metadata": {},
   "outputs": [],
   "source": [
    "#Visualizing missing values through heatmap\n",
    "plt.figure(figsize=(14,14))\n",
    "sns.heatmap(df.isnull(),yticklabels=False,cbar=False)"
   ]
  },
  {
   "cell_type": "markdown",
   "metadata": {},
   "source": [
    "Observation:\n",
    "    \n",
    "    We confirmed through heatmap that there are no missing values present in the dataset."
   ]
  },
  {
   "cell_type": "markdown",
   "metadata": {},
   "source": [
    "## Data visualization"
   ]
  },
  {
   "cell_type": "code",
   "execution_count": null,
   "metadata": {},
   "outputs": [],
   "source": [
    "#checking the column 1Gender of respondent\n",
    "plt.subplots(figsize=(8,6))\n",
    "sns.countplot(x=\"1Gender of respondent\", data=df)\n",
    "plt.title(\"Countplot of Gender of respondent\")\n",
    "plt.xticks(rotation=40)\n",
    "plt.xlabel('1Gender of respondent')\n",
    "plt.ylabel(\"count\")\n",
    "plt.show()\n",
    "\n",
    "df['1Gender of respondent'].value_counts()"
   ]
  },
  {
   "cell_type": "markdown",
   "metadata": {},
   "source": [
    "Observation:\n",
    "    \n",
    "    Majority, 181 of the customers are Female whereas Male are 88."
   ]
  },
  {
   "cell_type": "code",
   "execution_count": null,
   "metadata": {},
   "outputs": [],
   "source": [
    "#checking the column 2 How old are you? \n",
    "plt.subplots(figsize=(8,6))\n",
    "sns.countplot(x=\"2 How old are you? \", data=df)\n",
    "plt.title(\"Countplot of 2 How old are you? \")\n",
    "plt.xticks(rotation=40)\n",
    "plt.xlabel('2 How old are you? ')\n",
    "plt.ylabel(\"count\")\n",
    "plt.show()\n",
    "\n",
    "df['2 How old are you? '].value_counts()"
   ]
  },
  {
   "cell_type": "markdown",
   "metadata": {},
   "source": [
    "Observation:\n",
    "    \n",
    "    Majority, 81 of the customers are from age group 31-40 years."
   ]
  },
  {
   "cell_type": "code",
   "execution_count": null,
   "metadata": {},
   "outputs": [],
   "source": [
    "#checking the column 3 Which city do you shop online from?\n",
    "plt.subplots(figsize=(8,6))\n",
    "sns.countplot(x=\"3 Which city do you shop online from?\", data=df)\n",
    "plt.title(\"3 Which city do you shop online from?\")\n",
    "plt.xticks(rotation=40)\n",
    "plt.xlabel('3 Which city do you shop online from?')\n",
    "plt.ylabel(\"count\")\n",
    "plt.show()\n",
    "\n",
    "df['3 Which city do you shop online from?'].value_counts()"
   ]
  },
  {
   "cell_type": "markdown",
   "metadata": {},
   "source": [
    "Observation:\n",
    "    \n",
    "    Majority, 58 of the customers placed the order from Delhi city."
   ]
  },
  {
   "cell_type": "code",
   "execution_count": null,
   "metadata": {},
   "outputs": [],
   "source": [
    "#checking the column 4 What is the Pin Code of where you shop online from?\n",
    "plt.subplots(figsize=(10,10))\n",
    "sns.countplot(x=\"4 What is the Pin Code of where you shop online from?\", data=df)\n",
    "plt.title(\"4 What is the Pin Code of where you shop online from?\")\n",
    "plt.xticks(rotation='vertical')\n",
    "plt.xlabel('4 What is the Pin Code of where you shop online from?')\n",
    "plt.ylabel(\"count\")\n",
    "plt.show()\n",
    "\n",
    "df['4 What is the Pin Code of where you shop online from?'].value_counts()"
   ]
  },
  {
   "cell_type": "markdown",
   "metadata": {},
   "source": [
    "Observation:\n",
    "    \n",
    "    Majority, 38 of the customers placed an order from the pincode 201308."
   ]
  },
  {
   "cell_type": "code",
   "execution_count": null,
   "metadata": {},
   "outputs": [],
   "source": [
    "#checking the column 5 Since How Long You are Shopping Online ?\n",
    "plt.subplots(figsize=(8,6))\n",
    "sns.countplot(x=\"5 Since How Long You are Shopping Online ?\", data=df)\n",
    "plt.title(\"5 Since How Long You are Shopping Online ?\")\n",
    "plt.xticks(rotation=30)\n",
    "plt.xlabel('5 Since How Long You are Shopping Online ?')\n",
    "plt.ylabel(\"count\")\n",
    "plt.show()\n",
    "\n",
    "df['5 Since How Long You are Shopping Online ?'].value_counts()"
   ]
  },
  {
   "cell_type": "markdown",
   "metadata": {},
   "source": [
    "Observation:\n",
    "    \n",
    "    Majority, 98 customers are shopping since above 4 years."
   ]
  },
  {
   "cell_type": "code",
   "execution_count": null,
   "metadata": {},
   "outputs": [],
   "source": [
    "#checking the column 6 How many times you have made an online purchase in the past 1 year?\n",
    "plt.subplots(figsize=(8,6))\n",
    "sns.countplot(x=\"6 How many times you have made an online purchase in the past 1 year?\", data=df)\n",
    "plt.title(\"6 How many times you have made an online purchase in the past 1 year?\")\n",
    "plt.xticks(rotation=30)\n",
    "plt.xlabel('6 How many times you have made an online purchase in the past 1 year?')\n",
    "plt.ylabel(\"count\")\n",
    "plt.show()\n",
    "\n",
    "df['6 How many times you have made an online purchase in the past 1 year?'].value_counts()"
   ]
  },
  {
   "cell_type": "markdown",
   "metadata": {},
   "source": [
    "Observation:\n",
    "    \n",
    "    Majority 114 of the customers have made less than 10 times online purchase in the past 1 year."
   ]
  },
  {
   "cell_type": "code",
   "execution_count": null,
   "metadata": {},
   "outputs": [],
   "source": [
    "#checking the column 7 How do you access the internet while shopping on-line?\n",
    "plt.subplots(figsize=(8,6))\n",
    "sns.countplot(x=\"7 How do you access the internet while shopping on-line?\", data=df)\n",
    "plt.title(\"7 How do you access the internet while shopping on-line?\")\n",
    "plt.xticks(rotation=30)\n",
    "plt.xlabel('7 How do you access the internet while shopping on-line?')\n",
    "plt.ylabel(\"count\")\n",
    "plt.show()\n",
    "\n",
    "df['7 How do you access the internet while shopping on-line?'].value_counts()"
   ]
  },
  {
   "cell_type": "markdown",
   "metadata": {},
   "source": [
    "Observation:\n",
    "    \n",
    "    Majority, 189 customers use Mobile internet while shopping online."
   ]
  },
  {
   "cell_type": "code",
   "execution_count": null,
   "metadata": {},
   "outputs": [],
   "source": [
    "#checking the column 9 What is the screen size of your mobile device?\\t\\t\\t\\t\\t\\t                                        \n",
    "plt.subplots(figsize=(8,6))\n",
    "sns.countplot(x=\"9 What is the screen size of your mobile device?\\t\\t\\t\\t\\t\\t                                        \", data=df)\n",
    "plt.title(\"9 What is the screen size of your mobile device?\\t\\t\\t\\t\\t\\t                                        \")\n",
    "plt.xticks(rotation=30)\n",
    "plt.xlabel('9 What is the screen size of your mobile device?\\t\\t\\t\\t\\t\\t                                        ')\n",
    "plt.ylabel(\"count\")\n",
    "plt.show()\n",
    "\n",
    "df['9 What is the screen size of your mobile device?\\t\\t\\t\\t\\t\\t                                        '].value_counts()"
   ]
  },
  {
   "cell_type": "markdown",
   "metadata": {},
   "source": [
    "Observation:\n",
    "    \n",
    "    Majority, 134 customers have other screen size of mobile."
   ]
  },
  {
   "cell_type": "code",
   "execution_count": null,
   "metadata": {},
   "outputs": [],
   "source": [
    "#checking the column 10 What is the operating system (OS) of your device?\\t\\t\\t\\t                                          \n",
    "plt.subplots(figsize=(8,6))\n",
    "sns.countplot(x=\"10 What is the operating system (OS) of your device?\\t\\t\\t\\t                                          \", data=df)\n",
    "plt.title(\"10 What is the operating system (OS) of your device?\\t\\t\\t\\t                                          \")\n",
    "plt.xticks(rotation=30)\n",
    "plt.xlabel('10 What is the operating system (OS) of your device?\\t\\t\\t\\t                                          ')\n",
    "plt.ylabel(\"count\")\n",
    "plt.show()\n",
    "\n",
    "df['10 What is the operating system (OS) of your device?\\t\\t\\t\\t                                          '].value_counts()"
   ]
  },
  {
   "cell_type": "markdown",
   "metadata": {},
   "source": [
    "Observation:\n",
    "    \n",
    "    Majority, 122 customers device operating system is Window/windows mobile"
   ]
  },
  {
   "cell_type": "code",
   "execution_count": null,
   "metadata": {},
   "outputs": [],
   "source": [
    "#checking the column 11 What browser do you run on your device to access the website?\\t\\t\\t                                                          \n",
    "plt.subplots(figsize=(8,6))\n",
    "sns.countplot(x=\"11 What browser do you run on your device to access the website?\\t\\t\\t                                                          \", data=df)\n",
    "plt.title(\"11 What browser do you run on your device to access the website?\\t\\t\\t                                                          \")\n",
    "plt.xticks(rotation=30)\n",
    "plt.xlabel('11 What browser do you run on your device to access the website?\\t\\t\\t                                                          ')\n",
    "plt.ylabel(\"count\")\n",
    "plt.show()\n",
    "\n",
    "df['11 What browser do you run on your device to access the website?\\t\\t\\t                                                          '].value_counts()"
   ]
  },
  {
   "cell_type": "markdown",
   "metadata": {},
   "source": [
    "Observation:\n",
    "    \n",
    "    Majority, 216 customers use Google chrome browser to access the website."
   ]
  },
  {
   "cell_type": "code",
   "execution_count": null,
   "metadata": {},
   "outputs": [],
   "source": [
    "#checking the column 12 Which channel did you follow to arrive at your favorite online store for the first time?                                              \n",
    "plt.subplots(figsize=(8,6))\n",
    "sns.countplot(x=\"13 After first visit, how do you reach the online retail store?\\t\\t\\t\\t                                                   \", data=df)\n",
    "plt.title(\"13 After first visit, how do you reach the online retail store?\\t\\t\\t\\t                                                   \")\n",
    "plt.xticks(rotation=30)\n",
    "plt.xlabel('13 After first visit, how do you reach the online retail store?\\t\\t\\t\\t                                                   ')\n",
    "plt.ylabel(\"count\")\n",
    "plt.show()\n",
    "\n",
    "df['13 After first visit, how do you reach the online retail store?\\t\\t\\t\\t                                                   '].value_counts()"
   ]
  },
  {
   "cell_type": "code",
   "execution_count": null,
   "metadata": {},
   "outputs": [],
   "source": [
    "#checking the column 18 The content on the website must be easy to read and understand\n",
    "plt.subplots(figsize=(8,6))\n",
    "sns.countplot(x=\"18 The content on the website must be easy to read and understand\", data=df)\n",
    "plt.title(\"18 The content on the website must be easy to read and understand\")\n",
    "plt.xticks(rotation=30)\n",
    "plt.xlabel('18 The content on the website must be easy to read and understand')\n",
    "plt.ylabel(\"count\")\n",
    "plt.show()\n",
    "\n",
    "df['18 The content on the website must be easy to read and understand'].value_counts()"
   ]
  },
  {
   "cell_type": "markdown",
   "metadata": {},
   "source": [
    "Observation:\n",
    "    \n",
    "    Majority, 164 customers strongly agree that the content on the website must be easy to read and understand"
   ]
  },
  {
   "cell_type": "code",
   "execution_count": null,
   "metadata": {},
   "outputs": [],
   "source": [
    "#checking the column 19 Information on similar product to the one highlighted  is important for product comparison\n",
    "plt.subplots(figsize=(8,6))\n",
    "sns.countplot(x=\"19 Information on similar product to the one highlighted  is important for product comparison\", data=df)\n",
    "plt.title(\"19 Information on similar product to the one highlighted  is important for product comparison\")\n",
    "plt.xticks(rotation=30)\n",
    "plt.xlabel('19 Information on similar product to the one highlighted  is important for product comparison')\n",
    "plt.ylabel(\"count\")\n",
    "plt.show()\n",
    "\n",
    "df['19 Information on similar product to the one highlighted  is important for product comparison'].value_counts()"
   ]
  },
  {
   "cell_type": "markdown",
   "metadata": {},
   "source": [
    "Observation:\n",
    "    \n",
    "    Majority, 116 customers strongly agree that the Information on similar product to the one highlighted  is important for product comparison"
   ]
  },
  {
   "cell_type": "code",
   "execution_count": null,
   "metadata": {},
   "outputs": [],
   "source": [
    "#checking the column 20 Complete information on listed seller and product being offered is important for purchase decision.\n",
    "plt.subplots(figsize=(8,6))\n",
    "sns.countplot(x=\"20 Complete information on listed seller and product being offered is important for purchase decision.\", data=df)\n",
    "plt.title(\"20 Complete information on listed seller and product being offered is important for purchase decision.\")\n",
    "plt.xticks(rotation=30)\n",
    "plt.xlabel('20 Complete information on listed seller and product being offered is important for purchase decision.')\n",
    "plt.ylabel(\"count\")\n",
    "plt.show()\n",
    "\n",
    "df['20 Complete information on listed seller and product being offered is important for purchase decision.'].value_counts()"
   ]
  },
  {
   "cell_type": "markdown",
   "metadata": {},
   "source": [
    "Observation:\n",
    "    \n",
    "    Majority, 101 customers Agree that the Complete information on listed seller and product being offered is important for purchase decision"
   ]
  },
  {
   "cell_type": "code",
   "execution_count": null,
   "metadata": {},
   "outputs": [],
   "source": [
    "#checking the column 21 All relevant information on listed products must be stated clearly\n",
    "plt.subplots(figsize=(8,6))\n",
    "sns.countplot(x=\"21 All relevant information on listed products must be stated clearly\", data=df)\n",
    "plt.title(\"21 All relevant information on listed products must be stated clearly\")\n",
    "plt.xticks(rotation=30)\n",
    "plt.xlabel('21 All relevant information on listed products must be stated clearly')\n",
    "plt.ylabel(\"count\")\n",
    "plt.show()\n",
    "\n",
    "df['21 All relevant information on listed products must be stated clearly'].value_counts()"
   ]
  },
  {
   "cell_type": "markdown",
   "metadata": {},
   "source": [
    "Observation:\n",
    "    \n",
    "    Majority, 132 customers Agree that All relevant information on listed products must be stated clearly"
   ]
  },
  {
   "cell_type": "code",
   "execution_count": null,
   "metadata": {},
   "outputs": [],
   "source": [
    "#checking the column 22 Ease of navigation in website\n",
    "plt.subplots(figsize=(8,6))\n",
    "sns.countplot(x=\"22 Ease of navigation in website\", data=df)\n",
    "plt.title(\"22 Ease of navigation in website\")\n",
    "plt.xticks(rotation=30)\n",
    "plt.xlabel('22 Ease of navigation in website')\n",
    "plt.ylabel(\"count\")\n",
    "plt.show()\n",
    "\n",
    "df['22 Ease of navigation in website'].value_counts()"
   ]
  },
  {
   "cell_type": "markdown",
   "metadata": {},
   "source": [
    "Observation:\n",
    "    \n",
    "    Majority, 141 customers Strongly agree to Ease of navigation in website"
   ]
  },
  {
   "cell_type": "code",
   "execution_count": null,
   "metadata": {},
   "outputs": [],
   "source": [
    "#checking the column 23 Loading and processing speed\n",
    "plt.subplots(figsize=(8,6))\n",
    "sns.countplot(x=\"23 Loading and processing speed\", data=df)\n",
    "plt.title(\"23 Loading and processing speed\")\n",
    "plt.xticks(rotation=30)\n",
    "plt.xlabel('23 Loading and processing speed')\n",
    "plt.ylabel(\"count\")\n",
    "plt.show()\n",
    "\n",
    "df['23 Loading and processing speed'].value_counts()"
   ]
  },
  {
   "cell_type": "markdown",
   "metadata": {},
   "source": [
    "Observation:\n",
    "    \n",
    "    Majority, 115 customers Strongly agree to Loading and processing speed"
   ]
  },
  {
   "cell_type": "code",
   "execution_count": null,
   "metadata": {},
   "outputs": [],
   "source": [
    "#checking the column 24 User friendly Interface of the website\n",
    "plt.subplots(figsize=(8,6))\n",
    "sns.countplot(x=\"24 User friendly Interface of the website\", data=df)\n",
    "plt.title(\"24 User friendly Interface of the website\")\n",
    "plt.xticks(rotation=30)\n",
    "plt.xlabel('24 User friendly Interface of the website')\n",
    "plt.ylabel(\"count\")\n",
    "plt.show()\n",
    "\n",
    "df['24 User friendly Interface of the website'].value_counts()"
   ]
  },
  {
   "cell_type": "markdown",
   "metadata": {},
   "source": [
    "Observation:\n",
    "    \n",
    "    Majority, 189 customers Strongly agree to User friendly Interface of the website"
   ]
  },
  {
   "cell_type": "code",
   "execution_count": null,
   "metadata": {},
   "outputs": [],
   "source": [
    "#checking the column 25 Convenient Payment methods\n",
    "plt.subplots(figsize=(8,6))\n",
    "sns.countplot(x=\"25 Convenient Payment methods\", data=df)\n",
    "plt.title(\"25 Convenient Payment methods\")\n",
    "plt.xticks(rotation=30)\n",
    "plt.xlabel('25 Convenient Payment methods')\n",
    "plt.ylabel(\"count\")\n",
    "plt.show()\n",
    "\n",
    "df['25 Convenient Payment methods'].value_counts()"
   ]
  },
  {
   "cell_type": "markdown",
   "metadata": {},
   "source": [
    "Observation:\n",
    "    \n",
    "    Majority, 159 customers Strongly agree to Convenient Payment methods"
   ]
  },
  {
   "cell_type": "code",
   "execution_count": null,
   "metadata": {},
   "outputs": [],
   "source": [
    "#checking the column 26 Trust that the online retail store will fulfill its part of the transaction at the stipulated time\n",
    "plt.subplots(figsize=(8,6))\n",
    "sns.countplot(x=\"26 Trust that the online retail store will fulfill its part of the transaction at the stipulated time\", data=df)\n",
    "plt.title(\"26 Trust that the online retail store will fulfill its part of the transaction at the stipulated time\")\n",
    "plt.xticks(rotation=30)\n",
    "plt.xlabel('26 Trust that the online retail store will fulfill its part of the transaction at the stipulated time')\n",
    "plt.ylabel(\"count\")\n",
    "plt.show()\n",
    "\n",
    "df['26 Trust that the online retail store will fulfill its part of the transaction at the stipulated time'].value_counts()"
   ]
  },
  {
   "cell_type": "markdown",
   "metadata": {},
   "source": [
    "Observation:\n",
    "    \n",
    "    Majority, 141 customers Strongly agree to Trust that the online retail store will fulfill its part of the transaction at the stipulated time"
   ]
  },
  {
   "cell_type": "code",
   "execution_count": null,
   "metadata": {},
   "outputs": [],
   "source": [
    "#checking the column 27 Empathy (readiness to assist with queries) towards the customers\n",
    "plt.subplots(figsize=(8,6))\n",
    "sns.countplot(x=\"27 Empathy (readiness to assist with queries) towards the customers\", data=df)\n",
    "plt.title(\"27 Empathy (readiness to assist with queries) towards the customers\")\n",
    "plt.xticks(rotation=30)\n",
    "plt.xlabel('27 Empathy (readiness to assist with queries) towards the customers')\n",
    "plt.ylabel(\"count\")\n",
    "plt.show()\n",
    "\n",
    "df['27 Empathy (readiness to assist with queries) towards the customers'].value_counts()"
   ]
  },
  {
   "cell_type": "markdown",
   "metadata": {},
   "source": [
    "Observation:\n",
    "    \n",
    "    Majority, 194 customers Strongly agree to Empathy (readiness to assist with queries) towards the customers"
   ]
  },
  {
   "cell_type": "code",
   "execution_count": null,
   "metadata": {},
   "outputs": [],
   "source": [
    "#checking the column 28 Being able to guarantee the privacy of the customer\n",
    "plt.subplots(figsize=(8,6))\n",
    "sns.countplot(x=\"28 Being able to guarantee the privacy of the customer\", data=df)\n",
    "plt.title(\"28 Being able to guarantee the privacy of the customer\")\n",
    "plt.xticks(rotation=30)\n",
    "plt.xlabel('28 Being able to guarantee the privacy of the customer')\n",
    "plt.ylabel(\"count\")\n",
    "plt.show()\n",
    "\n",
    "df['28 Being able to guarantee the privacy of the customer'].value_counts()"
   ]
  },
  {
   "cell_type": "markdown",
   "metadata": {},
   "source": [
    "Observation:\n",
    "    \n",
    "    Majority, 185 customers Strongly agree to Being able to guarantee the privacy of the customer"
   ]
  },
  {
   "cell_type": "code",
   "execution_count": null,
   "metadata": {},
   "outputs": [],
   "source": [
    "#checking the column 29 Responsiveness, availability of several communication channels (email, online rep, twitter, phone etc.)\n",
    "plt.subplots(figsize=(8,6))\n",
    "sns.countplot(x=\"29 Responsiveness, availability of several communication channels (email, online rep, twitter, phone etc.)\", data=df)\n",
    "plt.title(\"29 Responsiveness, availability of several communication channels (email, online rep, twitter, phone etc.)\")\n",
    "plt.xticks(rotation=30)\n",
    "plt.xlabel('29 Responsiveness, availability of several communication channels (email, online rep, twitter, phone etc.)')\n",
    "plt.ylabel(\"count\")\n",
    "plt.show()\n",
    "\n",
    "df['29 Responsiveness, availability of several communication channels (email, online rep, twitter, phone etc.)'].value_counts()"
   ]
  },
  {
   "cell_type": "markdown",
   "metadata": {},
   "source": [
    "Observation:\n",
    "    \n",
    "    Majority, 149 customers Strongly agree to Responsiveness, availability of several communication channels (email, online rep, twitter, phone etc.)"
   ]
  },
  {
   "cell_type": "code",
   "execution_count": null,
   "metadata": {},
   "outputs": [],
   "source": [
    "#checking the column 30 Online shopping gives monetary benefit and discounts\n",
    "plt.subplots(figsize=(8,6))\n",
    "sns.countplot(x=\"30 Online shopping gives monetary benefit and discounts\", data=df)\n",
    "plt.title(\"30 Online shopping gives monetary benefit and discounts\")\n",
    "plt.xticks(rotation=30)\n",
    "plt.xlabel('30 Online shopping gives monetary benefit and discounts')\n",
    "plt.ylabel(\"count\")\n",
    "plt.show()\n",
    "\n",
    "df['30 Online shopping gives monetary benefit and discounts'].value_counts()"
   ]
  },
  {
   "cell_type": "markdown",
   "metadata": {},
   "source": [
    "Observation:\n",
    "    \n",
    "    Majority, 105 customers Strongly agree to Online shopping gives monetary benefit and discounts"
   ]
  },
  {
   "cell_type": "code",
   "execution_count": null,
   "metadata": {},
   "outputs": [],
   "source": [
    "#checking the column 31 Enjoyment is derived from shopping online\n",
    "plt.subplots(figsize=(8,6))\n",
    "sns.countplot(x=\"31 Enjoyment is derived from shopping online\", data=df)\n",
    "plt.title(\"31 Enjoyment is derived from shopping online\")\n",
    "plt.xticks(rotation=30)\n",
    "plt.xlabel('31 Enjoyment is derived from shopping online')\n",
    "plt.ylabel(\"count\")\n",
    "plt.show()\n",
    "\n",
    "df['31 Enjoyment is derived from shopping online'].value_counts()"
   ]
  },
  {
   "cell_type": "markdown",
   "metadata": {},
   "source": [
    "Observation:\n",
    "    \n",
    "    Majority, 86 customers Strongly agree to Enjoyment is derived from shopping online"
   ]
  },
  {
   "cell_type": "code",
   "execution_count": null,
   "metadata": {},
   "outputs": [],
   "source": [
    "#checking the column 32 Shopping online is convenient and flexible\n",
    "plt.subplots(figsize=(8,6))\n",
    "sns.countplot(x=\"32 Shopping online is convenient and flexible\", data=df)\n",
    "plt.title(\"32 Shopping online is convenient and flexible\")\n",
    "plt.xticks(rotation=30)\n",
    "plt.xlabel('32 Shopping online is convenient and flexible')\n",
    "plt.ylabel(\"count\")\n",
    "plt.show()\n",
    "\n",
    "df['32 Shopping online is convenient and flexible'].value_counts()"
   ]
  },
  {
   "cell_type": "markdown",
   "metadata": {},
   "source": [
    "Observation:\n",
    "    \n",
    "    Majority, 146 customers Strongly agree to Shopping online is convenient and flexible"
   ]
  },
  {
   "cell_type": "code",
   "execution_count": null,
   "metadata": {},
   "outputs": [],
   "source": [
    "#checking the column 33 Return and replacement policy of the e-tailer is important for purchase decision\n",
    "plt.subplots(figsize=(8,6))\n",
    "sns.countplot(x=\"33 Return and replacement policy of the e-tailer is important for purchase decision\", data=df)\n",
    "plt.title(\"33 Return and replacement policy of the e-tailer is important for purchase decision\")\n",
    "plt.xticks(rotation=30)\n",
    "plt.xlabel('33 Return and replacement policy of the e-tailer is important for purchase decision')\n",
    "plt.ylabel(\"count\")\n",
    "plt.show()\n",
    "\n",
    "df['33 Return and replacement policy of the e-tailer is important for purchase decision'].value_counts()"
   ]
  },
  {
   "cell_type": "markdown",
   "metadata": {},
   "source": [
    "Observation:\n",
    "    \n",
    "    Majority, 198 customers Strongly agree to Return and replacement policy of the e-tailer is important for purchase decision"
   ]
  },
  {
   "cell_type": "code",
   "execution_count": null,
   "metadata": {},
   "outputs": [],
   "source": [
    "#checking the column 34 Gaining access to loyalty programs is a benefit of shopping online\n",
    "plt.subplots(figsize=(8,6))\n",
    "sns.countplot(x=\"34 Gaining access to loyalty programs is a benefit of shopping online\", data=df)\n",
    "plt.title(\"34 Gaining access to loyalty programs is a benefit of shopping online\")\n",
    "plt.xticks(rotation=30)\n",
    "plt.xlabel('34 Gaining access to loyalty programs is a benefit of shopping online')\n",
    "plt.ylabel(\"count\")\n",
    "plt.show()\n",
    "\n",
    "df['34 Gaining access to loyalty programs is a benefit of shopping online'].value_counts()"
   ]
  },
  {
   "cell_type": "markdown",
   "metadata": {},
   "source": [
    "Observation:\n",
    "    \n",
    "    Majority, 115 customers Strongly agree to Gaining access to loyalty programs is a benefit of shopping online"
   ]
  },
  {
   "cell_type": "code",
   "execution_count": null,
   "metadata": {},
   "outputs": [],
   "source": [
    "#checking the column 35 Displaying quality Information on the website improves satisfaction of customers\n",
    "plt.subplots(figsize=(8,6))\n",
    "sns.countplot(x=\"35 Displaying quality Information on the website improves satisfaction of customers\", data=df)\n",
    "plt.title(\"35 Displaying quality Information on the website improves satisfaction of customers\")\n",
    "plt.xticks(rotation=30)\n",
    "plt.xlabel('35 Displaying quality Information on the website improves satisfaction of customers')\n",
    "plt.ylabel(\"count\")\n",
    "plt.show()\n",
    "\n",
    "df['35 Displaying quality Information on the website improves satisfaction of customers'].value_counts()"
   ]
  },
  {
   "cell_type": "markdown",
   "metadata": {},
   "source": [
    "Observation:\n",
    "    \n",
    "    Majority, 133 customers Strongly agree to Displaying quality Information on the website improves satisfaction of customers"
   ]
  },
  {
   "cell_type": "code",
   "execution_count": null,
   "metadata": {},
   "outputs": [],
   "source": [
    "#checking the column 36 User derive satisfaction while shopping on a good quality website or application\n",
    "plt.subplots(figsize=(8,6))\n",
    "sns.countplot(x=\"36 User derive satisfaction while shopping on a good quality website or application\", data=df)\n",
    "plt.title(\"36 User derive satisfaction while shopping on a good quality website or application\")\n",
    "plt.xticks(rotation=30)\n",
    "plt.xlabel('36 User derive satisfaction while shopping on a good quality website or application')\n",
    "plt.ylabel(\"count\")\n",
    "plt.show()\n",
    "\n",
    "df['36 User derive satisfaction while shopping on a good quality website or application'].value_counts()"
   ]
  },
  {
   "cell_type": "markdown",
   "metadata": {},
   "source": [
    "Observation:\n",
    "    \n",
    "    Majority, 175 customers Strongly agree to User derive satisfaction while shopping on a good quality website or application"
   ]
  },
  {
   "cell_type": "code",
   "execution_count": null,
   "metadata": {},
   "outputs": [],
   "source": [
    "#checking the column Easy to use website or application\n",
    "plt.subplots(figsize=(8,6))\n",
    "sns.countplot(x=\"Easy to use website or application\", data=df)\n",
    "plt.title(\"Easy to use website or application\")\n",
    "plt.xticks(rotation='vertical')\n",
    "plt.xlabel('Easy to use website or application')\n",
    "plt.ylabel(\"count\")\n",
    "plt.show()\n",
    "\n",
    "df['Easy to use website or application'].value_counts()"
   ]
  },
  {
   "cell_type": "markdown",
   "metadata": {},
   "source": [
    "Observation:\n",
    "    \n",
    "    Majority, 64 customers agree that Amazon.in, Flipkart.com, Paytm.com, Myntra.com, Snapdeal.com are Easy to use website or application"
   ]
  },
  {
   "cell_type": "code",
   "execution_count": null,
   "metadata": {},
   "outputs": [],
   "source": [
    "#checking the column Visual appealing web-page layout\n",
    "plt.subplots(figsize=(8,6))\n",
    "sns.countplot(x=\"Visual appealing web-page layout\", data=df)\n",
    "plt.title(\"Visual appealing web-page layout\")\n",
    "plt.xticks(rotation='vertical')\n",
    "plt.xlabel('Visual appealing web-page layout')\n",
    "plt.ylabel(\"count\")\n",
    "plt.show()\n",
    "\n",
    "df['Visual appealing web-page layout'].value_counts()"
   ]
  },
  {
   "cell_type": "markdown",
   "metadata": {},
   "source": [
    "Observation:\n",
    "    \n",
    "    Majority, 87 customers agree that Amazon.in, Flipkart.com have Visual appealing web-page layout"
   ]
  },
  {
   "cell_type": "code",
   "execution_count": null,
   "metadata": {},
   "outputs": [],
   "source": [
    "#checking the column Reliability of the website or application\n",
    "plt.subplots(figsize=(8,6))\n",
    "sns.countplot(x=\"Reliability of the website or application\", data=df)\n",
    "plt.title(\"Reliability of the website or application\")\n",
    "plt.xticks(rotation='vertical')\n",
    "plt.xlabel('Reliability of the website or application')\n",
    "plt.ylabel(\"count\")\n",
    "plt.show()\n",
    "\n",
    "df['Reliability of the website or application'].value_counts()"
   ]
  },
  {
   "cell_type": "markdown",
   "metadata": {},
   "source": [
    "Observation:\n",
    "    \n",
    "    Majority, 61 customers agree that Amazon.in Reliability of the website or application"
   ]
  },
  {
   "cell_type": "code",
   "execution_count": null,
   "metadata": {},
   "outputs": [],
   "source": [
    "#checking the column Limited mode of payment on most products (promotion, sales period)\n",
    "plt.subplots(figsize=(8,6))\n",
    "sns.countplot(x=\"Limited mode of payment on most products (promotion, sales period)\", data=df)\n",
    "plt.title(\"Limited mode of payment on most products (promotion, sales period)\")\n",
    "plt.xticks(rotation='vertical')\n",
    "plt.xlabel('Limited mode of payment on most products (promotion, sales period)')\n",
    "plt.ylabel(\"count\")\n",
    "plt.show()\n",
    "\n",
    "df['Limited mode of payment on most products (promotion, sales period)'].value_counts()"
   ]
  },
  {
   "cell_type": "markdown",
   "metadata": {},
   "source": [
    "Observation:\n",
    "    \n",
    "    Majority, 87 customers agree to snapdeal.com for Limited mode of payment on most products (promotion, sales period)"
   ]
  },
  {
   "cell_type": "code",
   "execution_count": null,
   "metadata": {},
   "outputs": [],
   "source": [
    "#checking the column Website is as efficient as before\n",
    "plt.subplots(figsize=(8,6))\n",
    "sns.countplot(x=\"Website is as efficient as before\", data=df)\n",
    "plt.title(\"Website is as efficient as before\")\n",
    "plt.xticks(rotation='vertical')\n",
    "plt.xlabel('Website is as efficient as before')\n",
    "plt.ylabel(\"count\")\n",
    "plt.show()\n",
    "\n",
    "df['Website is as efficient as before'].value_counts()"
   ]
  },
  {
   "cell_type": "markdown",
   "metadata": {},
   "source": [
    "Observation:\n",
    "    \n",
    "    Majority, 94 customers agree to Amazon.in that Website is as efficient as before"
   ]
  },
  {
   "cell_type": "code",
   "execution_count": null,
   "metadata": {},
   "outputs": [],
   "source": [
    "#checking the column Which of the Indian online retailer would you recommend to a friend?\n",
    "plt.subplots(figsize=(8,6))\n",
    "sns.countplot(x=\"Which of the Indian online retailer would you recommend to a friend?\", data=df)\n",
    "plt.title(\"Which of the Indian online retailer would you recommend to a friend?\")\n",
    "plt.xticks(rotation='vertical')\n",
    "plt.xlabel('Which of the Indian online retailer would you recommend to a friend?')\n",
    "plt.ylabel(\"count\")\n",
    "plt.show()\n",
    "\n",
    "df['Which of the Indian online retailer would you recommend to a friend?'].value_counts()"
   ]
  },
  {
   "cell_type": "markdown",
   "metadata": {},
   "source": [
    "Observation:\n",
    "    \n",
    "    Majority, 79 customers agree to Amazon.in to recommend to a friend"
   ]
  },
  {
   "cell_type": "code",
   "execution_count": null,
   "metadata": {},
   "outputs": [],
   "source": []
  },
  {
   "cell_type": "code",
   "execution_count": null,
   "metadata": {},
   "outputs": [],
   "source": []
  }
 ],
 "metadata": {
  "kernelspec": {
   "display_name": "Python 3",
   "language": "python",
   "name": "python3"
  },
  "language_info": {
   "codemirror_mode": {
    "name": "ipython",
    "version": 3
   },
   "file_extension": ".py",
   "mimetype": "text/x-python",
   "name": "python",
   "nbconvert_exporter": "python",
   "pygments_lexer": "ipython3",
   "version": "3.8.8"
  }
 },
 "nbformat": 4,
 "nbformat_minor": 4
}
