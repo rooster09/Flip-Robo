{
 "cells": [
  {
   "cell_type": "markdown",
   "metadata": {},
   "source": [
    "# Web Scrapping Assignment 3"
   ]
  },
  {
   "cell_type": "markdown",
   "metadata": {},
   "source": [
    "Q1. Write a python program which searches all the product under a particular product vertical from www.amazon.in. The product verticals to be searched will be taken as input from user. For e.g. If user input is ‘guitar’. Then search for guitars."
   ]
  },
  {
   "cell_type": "code",
   "execution_count": 2,
   "metadata": {},
   "outputs": [],
   "source": [
    "#importing all the required libraries\n",
    "import pandas as pd\n",
    "import selenium\n",
    "import time\n",
    "from selenium import webdriver\n",
    "from selenium.common.exceptions import StaleElementReferenceException, NoSuchElementException"
   ]
  },
  {
   "cell_type": "code",
   "execution_count": 2,
   "metadata": {},
   "outputs": [],
   "source": [
    "driver = webdriver.Chrome(r\"C:\\Users\\Mini\\Downloads\\chromedriver_win32\\chromedriver.exe\")"
   ]
  },
  {
   "cell_type": "code",
   "execution_count": 3,
   "metadata": {},
   "outputs": [],
   "source": [
    "url = 'https://www.amazon.in/'"
   ]
  },
  {
   "cell_type": "code",
   "execution_count": 4,
   "metadata": {},
   "outputs": [],
   "source": [
    "#Opeaning the web page through our web driver:\n",
    "driver.get(url)"
   ]
  },
  {
   "cell_type": "code",
   "execution_count": 5,
   "metadata": {},
   "outputs": [
    {
     "name": "stdout",
     "output_type": "stream",
     "text": [
      "Enter the product you want to search : Guitar\n"
     ]
    }
   ],
   "source": [
    "#User Input:\n",
    "user_inp = input('Enter the product you want to search : ')"
   ]
  },
  {
   "cell_type": "code",
   "execution_count": 6,
   "metadata": {},
   "outputs": [],
   "source": [
    "#Selecting Search Options:\n",
    "search_bar = driver.find_element_by_id(\"twotabsearchtextbox\")    \n",
    "search_bar.clear()                                              \n",
    "search_bar.send_keys(user_inp)                                  \n",
    "search_button = driver.find_element_by_xpath('//div[@class=\"nav-search-submit nav-sprite\"]/span/input')      \n",
    "search_button.click()   "
   ]
  },
  {
   "cell_type": "markdown",
   "metadata": {},
   "source": [
    "Q3. Write a python program to access the search bar and search button on images.google.com and scrape 100 images each for keywords ‘fruits’, ‘cars’ and ‘Machine Learning’."
   ]
  },
  {
   "cell_type": "code",
   "execution_count": 7,
   "metadata": {},
   "outputs": [
    {
     "name": "stdout",
     "output_type": "stream",
     "text": [
      "Length of the list are ==>> 144 144 144 144\n",
      "                                                Bikes  \\\n",
      "0                  https://www.zigwheels.com/newbikes   \n",
      "1   https://www.autocarindia.com/bike-news/best-bi...   \n",
      "2    https://www.bikedekho.com/husqvarna/vitpilen-250   \n",
      "3                  https://www.zigwheels.com/newbikes   \n",
      "4   https://www.bennetts.co.uk/bikesocial/news-and...   \n",
      "..                                                ...   \n",
      "95  https://www.royalsundaram.in/motor-101/honda-b...   \n",
      "96                 https://www.zigwheels.com/newbikes   \n",
      "97  https://www.autocarindia.com/bike-news/best-bi...   \n",
      "98   https://www.bikedekho.com/husqvarna/vitpilen-250   \n",
      "99                 https://www.zigwheels.com/newbikes   \n",
      "\n",
      "                                                 cars  \\\n",
      "0   https://www.forbes.com/sites/jimgorzelany/2019...   \n",
      "1   https://www.popularmechanics.com/cars/a3482425...   \n",
      "2   https://www.wired.com/story/jd-power-korean-ca...   \n",
      "3   https://luxe.digital/lifestyle/cars/fastest-cars/   \n",
      "4   https://theconversation.com/cars-will-change-m...   \n",
      "..                                                ...   \n",
      "95  https://www.theceomagazine.com/lifestyle/autom...   \n",
      "96  https://www.forbes.com/sites/jimgorzelany/2019...   \n",
      "97  https://www.popularmechanics.com/cars/a3482425...   \n",
      "98  https://www.wired.com/story/jd-power-korean-ca...   \n",
      "99  https://luxe.digital/lifestyle/cars/fastest-cars/   \n",
      "\n",
      "                                     machine_learning  \\\n",
      "0   https://www.forbes.com/sites/kalevleetaru/2019...   \n",
      "1   https://www.forbes.com/sites/tomtaulli/2019/03...   \n",
      "2   https://www.blumeglobal.com/learning/machine-l...   \n",
      "3   https://www.expert.ai/blog/machine-learning-de...   \n",
      "4   https://mobidev.biz/blog/machine-learning-meth...   \n",
      "..                                                ...   \n",
      "95  https://careers.edicomgroup.com/what-is-deep-l...   \n",
      "96  https://www.forbes.com/sites/kalevleetaru/2019...   \n",
      "97  https://www.forbes.com/sites/tomtaulli/2019/03...   \n",
      "98  https://www.blumeglobal.com/learning/machine-l...   \n",
      "99  https://www.expert.ai/blog/machine-learning-de...   \n",
      "\n",
      "                                               fruits  \n",
      "0   https://www.amazon.in/Fruits-All-One-Dreamland...  \n",
      "1   https://www.goodhousekeeping.com/health/diet-n...  \n",
      "2   https://www.pinterest.com/pin/641340803167435998/  \n",
      "3   https://www.healthyeating.org/nutrition-topics...  \n",
      "4          https://www.diabetes.co.uk/food/fruit.html  \n",
      "..                                                ...  \n",
      "95  https://www.insider.com/uncommon-fruits-and-ve...  \n",
      "96  https://www.amazon.in/Fruits-All-One-Dreamland...  \n",
      "97  https://www.goodhousekeeping.com/health/diet-n...  \n",
      "98  https://www.pinterest.com/pin/641340803167435998/  \n",
      "99  https://www.healthyeating.org/nutrition-topics...  \n",
      "\n",
      "[100 rows x 4 columns]\n"
     ]
    }
   ],
   "source": [
    "# Function Definition\n",
    "def google_img(url):\n",
    "    driver=webdriver.Chrome(r\"C:\\Users\\Mini\\Downloads\\chromedriver_win32\\chromedriver.exe\")\n",
    "    fruits=[]\n",
    "    cars=[]\n",
    "    Bikes=[]\n",
    "    machine_learning=[]\n",
    "#extracting fruits data\n",
    "    driver.get(url)\n",
    "    search_field_items=driver.find_element_by_xpath(\"//div[@class='a4bIc']/input\")\n",
    "    search_field_items.send_keys(\"fruits\")\n",
    "    search_button=driver.find_element_by_xpath(\"//button[@class='Tg7LZd']\")\n",
    "    search_button.click()\n",
    "    for i in range(0,3):\n",
    "        url_tags=driver.find_elements_by_xpath(\"//div[@class='islrc']//div[@class='isv-r PNCib MSM1fd BUooTd']//a[@class='VFACy kGQAp sMi44c lNHeqe WGvvNb']\")\n",
    "        for i in url_tags:\n",
    "            fruits.append(i.get_attribute('href'))   \n",
    "        time.sleep(2)\n",
    "#extracting car image data        \n",
    "    driver.get(url)\n",
    "    search_field_items=driver.find_element_by_xpath(\"//div[@class='a4bIc']/input\")\n",
    "    search_field_items.send_keys(\"cars\")\n",
    "    search_button=driver.find_element_by_xpath(\"//button[@class='Tg7LZd']\")\n",
    "    search_button.click()\n",
    "    for i in range(0,3):\n",
    "        url_tags=driver.find_elements_by_xpath(\"//div[@class='islrc']//div[@class='isv-r PNCib MSM1fd BUooTd']//a[@class='VFACy kGQAp sMi44c lNHeqe WGvvNb']\")\n",
    "        for i in url_tags:\n",
    "            cars.append(i.get_attribute('href'))   \n",
    "        time.sleep(2)\n",
    "#extracting machine learning imgae data        \n",
    "    driver.get(url)\n",
    "    search_field_items=driver.find_element_by_xpath(\"//div[@class='a4bIc']/input\")\n",
    "    search_field_items.send_keys(\"machine learning\")\n",
    "    search_button=driver.find_element_by_xpath(\"//button[@class='Tg7LZd']\")\n",
    "    search_button.click()\n",
    "    for i in range(0,3):\n",
    "        url_tags=driver.find_elements_by_xpath(\"//div[@class='islrc']//div[@class='isv-r PNCib MSM1fd BUooTd']//a[@class='VFACy kGQAp sMi44c lNHeqe WGvvNb']\")\n",
    "        for i in url_tags:\n",
    "            machine_learning.append(i.get_attribute('href'))   \n",
    "            \n",
    "#extracting bikes image data        \n",
    "    driver.get(url)\n",
    "    search_field_items=driver.find_element_by_xpath(\"//div[@class='a4bIc']/input\")\n",
    "    search_field_items.send_keys(\"Bikes\")\n",
    "    search_button=driver.find_element_by_xpath(\"//button[@class='Tg7LZd']\")\n",
    "    search_button.click()\n",
    "    for i in range(0,3):\n",
    "        url_tags=driver.find_elements_by_xpath(\"//div[@class='islrc']//div[@class='isv-r PNCib MSM1fd BUooTd']//a[@class='VFACy kGQAp sMi44c lNHeqe WGvvNb']\")\n",
    "        for i in url_tags:\n",
    "            Bikes.append(i.get_attribute('href'))   \n",
    "        \n",
    "        \n",
    "    \n",
    "        \n",
    "    print('Length of the list are ==>>',len(fruits),len(cars),len(machine_learning),len(Bikes))\n",
    "    google_image=pd.DataFrame({'Bikes':Bikes[:100],\n",
    "                           'cars':cars[:100],\n",
    "                            'machine_learning':machine_learning[:100],\n",
    "                              'fruits':fruits[:100]})\n",
    "                            \n",
    "    print(google_image)\n",
    "    google_image.to_csv('google_image.csv', index = False)\n",
    "    \n",
    "    \n",
    "# Calling Function\n",
    "google_img('https://images.google.com/?gws_rd=ssl')"
   ]
  },
  {
   "cell_type": "markdown",
   "metadata": {},
   "source": [
    "5.Write a program to scrap geospatial coordinates (latitude, longitude) of a city searched on google maps."
   ]
  },
  {
   "cell_type": "code",
   "execution_count": 8,
   "metadata": {},
   "outputs": [],
   "source": [
    "#importing all the required libraries\n",
    "import pandas as pd\n",
    "import selenium\n",
    "from selenium import webdriver\n",
    "import re\n",
    "import requests\n",
    "from selenium.common.exceptions import StaleElementReferenceException, NoSuchElementException"
   ]
  },
  {
   "cell_type": "code",
   "execution_count": 9,
   "metadata": {},
   "outputs": [],
   "source": [
    "driver = webdriver.Chrome(r\"C:\\Users\\Mini\\Downloads\\chromedriver_win32\\chromedriver.exe\")"
   ]
  },
  {
   "cell_type": "code",
   "execution_count": 10,
   "metadata": {},
   "outputs": [
    {
     "name": "stdout",
     "output_type": "stream",
     "text": [
      "Enter City Name : jaipur\n",
      "URL Extracted:  https://www.google.co.in/maps/place/Jaipur,+Rajasthan/@26.8851417,75.6504687,11z/data=!3m1!4b1!4m5!3m4!1s0x396c4adf4c57e281:0xce1c63a0cf22e09!8m2!3d26.9124336!4d75.7872709\n",
      "Latitude = 26.8851417, Longitude = 75.6504687\n"
     ]
    }
   ],
   "source": [
    "# opening google maps\n",
    "driver.get(\"https://www.google.co.in/maps\")\n",
    "time.sleep(3)\n",
    "\n",
    "city = input('Enter City Name : ')                                       \n",
    "search = driver.find_element_by_id(\"searchboxinput\")                    \n",
    "search.clear()                                                             \n",
    "time.sleep(2)\n",
    "search.send_keys(city)                                                    \n",
    "button = driver.find_element_by_id(\"searchbox-searchbutton\")              \n",
    "button.click()                                                          \n",
    "time.sleep(3)\n",
    "\n",
    "try:\n",
    "    url_string = driver.current_url\n",
    "    print(\"URL Extracted: \", url_string)\n",
    "    lat_lng = re.findall(r'@(.*)data',url_string)\n",
    "    if len(lat_lng):\n",
    "        lat_lng_list = lat_lng[0].split(\",\")\n",
    "        if len(lat_lng_list)>=2:\n",
    "            lat = lat_lng_list[0]\n",
    "            lng = lat_lng_list[1]\n",
    "        print(\"Latitude = {}, Longitude = {}\".format(lat, lng))\n",
    "\n",
    "except Exception as e:\n",
    "        print(\"Error: \", str(e))"
   ]
  },
  {
   "cell_type": "markdown",
   "metadata": {},
   "source": [
    " Q6.Write a program to scrap details of all the funding deals for second quarter (i.e. July 20 – September 20) from trak.in."
   ]
  },
  {
   "cell_type": "code",
   "execution_count": 11,
   "metadata": {},
   "outputs": [],
   "source": [
    "#importing all the required libraries\n",
    "import pandas as pd\n",
    "import selenium\n",
    "from selenium import webdriver\n",
    "import re\n",
    "import requests\n",
    "from selenium.common.exceptions import StaleElementReferenceException, NoSuchElementException"
   ]
  },
  {
   "cell_type": "code",
   "execution_count": 12,
   "metadata": {},
   "outputs": [],
   "source": [
    "driver = webdriver.Chrome(r\"C:\\Users\\Mini\\Downloads\\chromedriver_win32\\chromedriver.exe\")"
   ]
  },
  {
   "cell_type": "code",
   "execution_count": 13,
   "metadata": {},
   "outputs": [],
   "source": [
    "url = 'https://trak.in'"
   ]
  },
  {
   "cell_type": "code",
   "execution_count": 14,
   "metadata": {},
   "outputs": [],
   "source": [
    "#Opeaning the web page through our web driver:\n",
    "driver.get(url)"
   ]
  },
  {
   "cell_type": "code",
   "execution_count": 15,
   "metadata": {},
   "outputs": [],
   "source": [
    "#Selecting Search Button.\n",
    "search_button = driver.find_element_by_xpath('//li[@id=\"menu-item-51510\"]/a').get_attribute('href')\n",
    "driver.get(search_button)"
   ]
  },
  {
   "cell_type": "code",
   "execution_count": 16,
   "metadata": {},
   "outputs": [],
   "source": [
    "#creating Empty List:\n",
    "trade_dict = {}\n",
    "trade_dict['Date'] = []\n",
    "trade_dict['Startup Name'] = []\n",
    "trade_dict['Industry/Vertical'] = []\n",
    "trade_dict['Sub-Vertical'] = []\n",
    "trade_dict['Location'] = []\n",
    "trade_dict['Investor'] = []\n",
    "trade_dict['Investment Type'] = []\n",
    "trade_dict['Amount(in USD)'] = []"
   ]
  },
  {
   "cell_type": "code",
   "execution_count": 18,
   "metadata": {},
   "outputs": [
    {
     "data": {
      "text/html": [
       "<div>\n",
       "<style scoped>\n",
       "    .dataframe tbody tr th:only-of-type {\n",
       "        vertical-align: middle;\n",
       "    }\n",
       "\n",
       "    .dataframe tbody tr th {\n",
       "        vertical-align: top;\n",
       "    }\n",
       "\n",
       "    .dataframe thead th {\n",
       "        text-align: right;\n",
       "    }\n",
       "</style>\n",
       "<table border=\"1\" class=\"dataframe\">\n",
       "  <thead>\n",
       "    <tr style=\"text-align: right;\">\n",
       "      <th></th>\n",
       "      <th>Date</th>\n",
       "      <th>Startup Name</th>\n",
       "      <th>Industry/Vertical</th>\n",
       "      <th>Sub-Vertical</th>\n",
       "      <th>Location</th>\n",
       "      <th>Investor</th>\n",
       "      <th>Investment Type</th>\n",
       "      <th>Amount(in USD)</th>\n",
       "    </tr>\n",
       "  </thead>\n",
       "  <tbody>\n",
       "    <tr>\n",
       "      <th>0</th>\n",
       "      <td>13/11/2019</td>\n",
       "      <td>Freshworks</td>\n",
       "      <td>Software</td>\n",
       "      <td>Business and customer engagement tools</td>\n",
       "      <td>San Francisco</td>\n",
       "      <td>Sequoia, CapitalG, Accel</td>\n",
       "      <td>Series H</td>\n",
       "      <td>15,000,0000</td>\n",
       "    </tr>\n",
       "    <tr>\n",
       "      <th>1</th>\n",
       "      <td>14/11/2019</td>\n",
       "      <td>Misters</td>\n",
       "      <td>Health and wellness</td>\n",
       "      <td>Men's Health and Wellness brand</td>\n",
       "      <td>Gurgaon</td>\n",
       "      <td>Sauce.vc, Rainforest Ventures</td>\n",
       "      <td>Series B</td>\n",
       "      <td>486,000</td>\n",
       "    </tr>\n",
       "    <tr>\n",
       "      <th>2</th>\n",
       "      <td>13/11/2019</td>\n",
       "      <td>Sunstone Eduversity Pvt. Ltd</td>\n",
       "      <td>Education</td>\n",
       "      <td>Elearning</td>\n",
       "      <td>Gurgaon</td>\n",
       "      <td>Prime Venture Partners, LetsVenture, PS1 Ventu...</td>\n",
       "      <td>Seed</td>\n",
       "      <td>1,500,000</td>\n",
       "    </tr>\n",
       "    <tr>\n",
       "      <th>3</th>\n",
       "      <td>17/11/2019</td>\n",
       "      <td>Burger Singh</td>\n",
       "      <td>Food and Beverage</td>\n",
       "      <td>Indian Burger Brand</td>\n",
       "      <td>Gurgaon</td>\n",
       "      <td>RB Investments</td>\n",
       "      <td>Venture</td>\n",
       "      <td>undisclosed</td>\n",
       "    </tr>\n",
       "    <tr>\n",
       "      <th>4</th>\n",
       "      <td>18/11/2019</td>\n",
       "      <td>Healthians</td>\n",
       "      <td>Health and Wellness</td>\n",
       "      <td>Healthcare services</td>\n",
       "      <td>Gurgaon</td>\n",
       "      <td>DG Daiwa Ventures, DG Incubation</td>\n",
       "      <td>Series B</td>\n",
       "      <td>12,000,000</td>\n",
       "    </tr>\n",
       "  </tbody>\n",
       "</table>\n",
       "</div>"
      ],
      "text/plain": [
       "         Date                  Startup Name    Industry/Vertical  \\\n",
       "0  13/11/2019                    Freshworks             Software   \n",
       "1  14/11/2019                       Misters  Health and wellness   \n",
       "2  13/11/2019  Sunstone Eduversity Pvt. Ltd            Education   \n",
       "3  17/11/2019                  Burger Singh    Food and Beverage   \n",
       "4  18/11/2019                    Healthians  Health and Wellness   \n",
       "\n",
       "                             Sub-Vertical       Location  \\\n",
       "0  Business and customer engagement tools  San Francisco   \n",
       "1         Men's Health and Wellness brand        Gurgaon   \n",
       "2                               Elearning        Gurgaon   \n",
       "3                     Indian Burger Brand        Gurgaon   \n",
       "4                     Healthcare services        Gurgaon   \n",
       "\n",
       "                                            Investor Investment Type  \\\n",
       "0                           Sequoia, CapitalG, Accel        Series H   \n",
       "1                      Sauce.vc, Rainforest Ventures        Series B   \n",
       "2  Prime Venture Partners, LetsVenture, PS1 Ventu...            Seed   \n",
       "3                                     RB Investments         Venture   \n",
       "4                   DG Daiwa Ventures, DG Incubation        Series B   \n",
       "\n",
       "  Amount(in USD)  \n",
       "0    15,000,0000  \n",
       "1        486,000  \n",
       "2      1,500,000  \n",
       "3    undisclosed  \n",
       "4     12,000,000  "
      ]
     },
     "execution_count": 18,
     "metadata": {},
     "output_type": "execute_result"
    }
   ],
   "source": [
    "for i in range(40,51):\n",
    "    driver.find_element_by_xpath('//div[@id=\"tablepress-{}_wrapper\"]/div/label/select/option[4]'.format(i)).click()\n",
    "\n",
    "    # Date\n",
    "    dt = driver.find_elements_by_xpath('//table[@id=\"tablepress-{}\"]/tbody/tr/td[2]'.format(i))\n",
    "    for d in dt:\n",
    "        trade_dict['Date'].append(d.text)\n",
    "\n",
    "    # Startup Name\n",
    "    sn = driver.find_elements_by_xpath('//table[@id=\"tablepress-{}\"]/tbody/tr/td[3]'.format(i))\n",
    "    for n in sn:\n",
    "        trade_dict['Startup Name'].append(n.text)\n",
    "    \n",
    "    # Industry/Vertical\n",
    "    ind = driver.find_elements_by_xpath('//table[@id=\"tablepress-{}\"]/tbody/tr/td[4]'.format(i))\n",
    "    for n in ind:\n",
    "        trade_dict['Industry/Vertical'].append(n.text)\n",
    "    \n",
    "    # Sub-Vertical\n",
    "    sv = driver.find_elements_by_xpath('//table[@id=\"tablepress-{}\"]/tbody/tr/td[5]'.format(i))\n",
    "    for s in sv:\n",
    "        trade_dict['Sub-Vertical'].append(s.text)\n",
    "\n",
    "    # Location\n",
    "    loc = driver.find_elements_by_xpath('//table[@id=\"tablepress-{}\"]/tbody/tr/td[6]'.format(i))\n",
    "    for l in loc:\n",
    "        trade_dict['Location'].append(l.text)\n",
    "    \n",
    "    # Investor\n",
    "    inv = driver.find_elements_by_xpath('//table[@id=\"tablepress-{}\"]/tbody/tr/td[7]'.format(i))\n",
    "    for n in inv:\n",
    "        trade_dict['Investor'].append(n.text)\n",
    "    \n",
    "    # Investment Type\n",
    "    invt = driver.find_elements_by_xpath('//table[@id=\"tablepress-{}\"]/tbody/tr/td[8]'.format(i))\n",
    "    for n in invt:\n",
    "        trade_dict['Investment Type'].append(n.text)\n",
    "    \n",
    "    # Amount\n",
    "    amt = driver.find_elements_by_xpath('//table[@id=\"tablepress-{}\"]/tbody/tr/td[9]'.format(i))\n",
    "    for a in amt:\n",
    "        trade_dict['Amount(in USD)'].append(a.text)\n",
    "    \n",
    "trade_df = pd.DataFrame(trade_dict)\n",
    "trade_df.head()"
   ]
  },
  {
   "cell_type": "markdown",
   "metadata": {},
   "source": [
    "Q7. Write a program to scrap all the available details of top 10 gaming laptops from digit.in."
   ]
  },
  {
   "cell_type": "code",
   "execution_count": 19,
   "metadata": {},
   "outputs": [],
   "source": [
    "#importing all the required libraries\n",
    "import pandas as pd\n",
    "import selenium\n",
    "from selenium import webdriver\n",
    "import re\n",
    "import requests\n",
    "from selenium.common.exceptions import StaleElementReferenceException, NoSuchElementException"
   ]
  },
  {
   "cell_type": "code",
   "execution_count": 20,
   "metadata": {},
   "outputs": [],
   "source": [
    "driver = webdriver.Chrome(r\"C:\\Users\\Mini\\Downloads\\chromedriver_win32\\chromedriver.exe\")"
   ]
  },
  {
   "cell_type": "code",
   "execution_count": 21,
   "metadata": {},
   "outputs": [],
   "source": [
    "url = 'https://www.digit.in'"
   ]
  },
  {
   "cell_type": "code",
   "execution_count": 22,
   "metadata": {},
   "outputs": [],
   "source": [
    "#Opeaning the web page through our web driver:\n",
    "driver.get(url)"
   ]
  },
  {
   "cell_type": "code",
   "execution_count": 23,
   "metadata": {},
   "outputs": [],
   "source": [
    "#Clicking on Top 10 Option: \n",
    "top_10 = driver.find_element_by_xpath(\"//div[@class='menu']/ul/li[3]/a\")\n",
    "top_10.click()"
   ]
  },
  {
   "cell_type": "code",
   "execution_count": 24,
   "metadata": {},
   "outputs": [],
   "source": [
    "#Creating Empty List\n",
    "Laptop_name = []\n",
    "price = []\n",
    "OS = []\n",
    "display = []\n",
    "processor = []\n",
    "HDD = []\n",
    "RAM = []\n",
    "weight = []\n",
    "dimension = []\n",
    "GPU = []"
   ]
  },
  {
   "cell_type": "code",
   "execution_count": 25,
   "metadata": {},
   "outputs": [],
   "source": [
    "#Extracting the tags having computer Names:\n",
    "names = driver.find_elements_by_xpath(\"//div[@class='right-container']/div/a/h3\")\n",
    "for i in names:\n",
    "    if i.text is None:\n",
    "        Laptop_name.append(\" \") \n",
    "    else:\n",
    "        Laptop_name.append(i.text.replace('\\n','').strip())\n",
    "        \n",
    "#operating System:\n",
    "os = driver.find_elements_by_xpath(\"//div[@class='product-detail']/div/ul/li[1]/div/div\")\n",
    "for i in os:\n",
    "    if i.text is None:\n",
    "        OS.append(\" \") \n",
    "    else:\n",
    "        OS.append(i.text.replace('\\n','').strip())\n",
    "    \n",
    "#display\n",
    "displays = driver.find_elements_by_xpath(\"//div[@class='product-detail']/div/ul/li[2]/div/div\")\n",
    "for i in displays:\n",
    "    if i.text is None:\n",
    "        display.append(\" \") \n",
    "    else:\n",
    "        display.append(i.text.replace('\\n','').strip())\n",
    "    \n",
    "#processor\n",
    "processors = driver.find_elements_by_xpath(\"//div[@class='product-detail']/div/ul/li[3]/div/div\")\n",
    "for i in processors:\n",
    "    if i.text is None:\n",
    "        processor.append(\" \") \n",
    "    else:\n",
    "        processor.append(i.text.replace('\\n','').strip())\n",
    "\n",
    "#memory\n",
    "memories = driver.find_elements_by_xpath(\"//div[@class='Spcs-details'][1]/table/tbody/tr[6]/td[1]\")\n",
    "memories_specification = driver.find_elements_by_xpath(\"//div[@class='Spcs-details'][1]/table/tbody/tr[6]/td[3]\")\n",
    "for i in range(len(memories)):\n",
    "        if memories[i].text=='Memory':\n",
    "            HDD.append(memories_specification[i].text.split('/')[0])\n",
    "            RAM.append(memories_specification[i].text.split('/')[1])\n",
    "        else:\n",
    "            HDD.append('No details found')\n",
    "            RAM.append('No details found') \n",
    "\n",
    "#weight\n",
    "weights = driver.find_elements_by_xpath(\"//div[@class='Spcs-details']/table/tbody/tr/td[1]\")\n",
    "weight_spec=driver.find_elements_by_xpath(\"//div[@class='Spcs-details']/table/tbody/tr/td[3]\")\n",
    "for i in range(len(weights)):\n",
    "        if weights[i].text=='Weight':\n",
    "            weight.append(weight_spec[i].text)\n",
    "        \n",
    "#dimension\n",
    "dimension = []\n",
    "dimens = driver.find_elements_by_xpath(\"//div[@class='Spcs-details']/table/tbody/tr/td[1]\")#list of specificaion name\n",
    "dims_spec = driver.find_elements_by_xpath(\"//div[@class='Spcs-details']/table/tbody/tr/td[3]\")#values of specifiations\n",
    "for i in range(len(dimens)):\n",
    "        if dimens[i].text=='Dimension':\n",
    "            dimension.append(dimens_spec[i].text)\n",
    "\n",
    "#GPU Driver:\n",
    "GPUs = driver.find_elements_by_xpath(\"//div[@class='Spcs-details']/table/tbody/tr/td[1]\")\n",
    "GPUs_spec = driver.find_elements_by_xpath(\"//div[@class='Spcs-details']/table/tbody/tr/td[3]\")\n",
    "for i in range(len(GPUs)):\n",
    "        if GPUs[i].text == 'Graphics Processor':\n",
    "            GPU.append(GPUs_spec[i].text)\n",
    "        \n",
    "full_specs = []\n",
    "urls = driver.find_elements_by_xpath(\"//div[@class='full-specs']/span\")\n",
    "for i in urls:\n",
    "    if i.get_attribute('data-href'):\n",
    "        full_specs.append(i.get_attribute('data-href'))\n",
    "    \n",
    "for i in full_specs:\n",
    "    driver.get(i)\n",
    "    try:\n",
    "        prices=driver.find_element_by_xpath(\"//div[@class='Block-price']/b\")\n",
    "        price.append(prices.text)\n",
    "    except NoSuchElementException:\n",
    "        price.append(\"No details available\")\n",
    "        \n",
    "df=pd.DataFrame({\"Name\":names,\n",
    "                \"Price\":price,\n",
    "                \"OS\":OS,\n",
    "                \"Display\":display,\n",
    "                \"HDD\":HDD,\n",
    "                 \"RAM\":RAM,\n",
    "                \"processor\":processor,\n",
    "                \"weight\":weight,\n",
    "                \"Dimension\":dimension,\n",
    "                \"Graphical processor\":GPU})\n",
    "   "
   ]
  },
  {
   "cell_type": "code",
   "execution_count": 26,
   "metadata": {},
   "outputs": [],
   "source": [
    "df.to_csv(\"Gaming laptops_digit.csv\") #Saving the File"
   ]
  },
  {
   "cell_type": "code",
   "execution_count": 27,
   "metadata": {},
   "outputs": [
    {
     "data": {
      "text/html": [
       "<div>\n",
       "<style scoped>\n",
       "    .dataframe tbody tr th:only-of-type {\n",
       "        vertical-align: middle;\n",
       "    }\n",
       "\n",
       "    .dataframe tbody tr th {\n",
       "        vertical-align: top;\n",
       "    }\n",
       "\n",
       "    .dataframe thead th {\n",
       "        text-align: right;\n",
       "    }\n",
       "</style>\n",
       "<table border=\"1\" class=\"dataframe\">\n",
       "  <thead>\n",
       "    <tr style=\"text-align: right;\">\n",
       "      <th></th>\n",
       "      <th>Name</th>\n",
       "      <th>Price</th>\n",
       "      <th>OS</th>\n",
       "      <th>Display</th>\n",
       "      <th>HDD</th>\n",
       "      <th>RAM</th>\n",
       "      <th>processor</th>\n",
       "      <th>weight</th>\n",
       "      <th>Dimension</th>\n",
       "      <th>Graphical processor</th>\n",
       "    </tr>\n",
       "  </thead>\n",
       "  <tbody>\n",
       "  </tbody>\n",
       "</table>\n",
       "</div>"
      ],
      "text/plain": [
       "Empty DataFrame\n",
       "Columns: [Name, Price, OS, Display, HDD, RAM, processor, weight, Dimension, Graphical processor]\n",
       "Index: []"
      ]
     },
     "execution_count": 27,
     "metadata": {},
     "output_type": "execute_result"
    }
   ],
   "source": [
    "df"
   ]
  },
  {
   "cell_type": "markdown",
   "metadata": {},
   "source": [
    "4. Write a python program to search for a smartphone(e.g.: Oneplus Nord, pixel 4A, etc.) on www.flipkart.com and scrape following details for all the search results displayed on 1st page. Details to be scraped: “Brand Name”, “Smartphone name”, “Colour”, “RAM”, “Storage(ROM)”, “Primary Camera”, “Secondary Camera”, “Display Size”, “Display Resolution”, “Processor”, “Processor Cores”, “Battery Capacity”, “Price”, “Product URL”. Incase if any of the details is missing then replace it by “- “. Save your results in a dataframe and CSV.\n"
   ]
  },
  {
   "cell_type": "code",
   "execution_count": 3,
   "metadata": {},
   "outputs": [],
   "source": [
    "driver = webdriver.Chrome(r'C:\\Users\\Mini\\Downloads\\chromedriver_win32\\chromedriver.exe')"
   ]
  },
  {
   "cell_type": "code",
   "execution_count": 4,
   "metadata": {},
   "outputs": [
    {
     "name": "stdout",
     "output_type": "stream",
     "text": [
      "Enter the smartphone you want to search : redmi 9\n"
     ]
    }
   ],
   "source": [
    "driver.get('https://www.flipkart.com/')\n",
    "driver.find_element_by_xpath(\"//div[@class='_2QfC02']/button\").click()\n",
    "search = driver.find_element_by_xpath(\"//form[@class='_2M8cLY header-form-search']/div/div/input\")\n",
    "user_inp = input('Enter the smartphone you want to search : ')\n",
    "search.send_keys(user_inp)\n",
    "driver.find_element_by_xpath(\"//button[@class='L0Z3Pu']\").click()"
   ]
  },
  {
   "cell_type": "code",
   "execution_count": 5,
   "metadata": {},
   "outputs": [],
   "source": [
    "url = []\n",
    "for i in driver.find_elements_by_xpath(\"//div[@class='_2kHMtA']/a\"):\n",
    "    url.append(i.get_attribute('href'))"
   ]
  },
  {
   "cell_type": "code",
   "execution_count": 6,
   "metadata": {},
   "outputs": [],
   "source": [
    "product_name = []\n",
    "brand_name = []\n",
    "Price = []\n",
    "#brand_name\n",
    "for page in url :\n",
    "    driver.get(page)\n",
    "    try :  \n",
    "        name = driver.find_element_by_xpath(\"//h1[@class='yhB1nd']/span\")\n",
    "        if name.text is None :\n",
    "            brand_name.append(\"-\")\n",
    "        else :\n",
    "            brand_name.append(name.text)\n",
    "    \n",
    "    except NoSuchElementException :\n",
    "        brand_name.append(\"-\")"
   ]
  },
  {
   "cell_type": "code",
   "execution_count": 7,
   "metadata": {},
   "outputs": [],
   "source": [
    "#Price\n",
    "for page in url :\n",
    "    driver.get(page)\n",
    "    try : \n",
    "        price = driver.find_element_by_xpath(\"//div[@class='_25b18c']/div\")\n",
    "        if price.text is None :\n",
    "            Price.append(\"-\")\n",
    "        else :\n",
    "            Price.append(price.text)\n",
    "    except NoSuchElementException :\n",
    "        Price.append(\"-\")"
   ]
  },
  {
   "cell_type": "code",
   "execution_count": 8,
   "metadata": {},
   "outputs": [],
   "source": [
    "ratings = []\n",
    "for page in url :\n",
    "    driver.get(page)\n",
    "    driver.find_element_by_xpath(\"//div[@class='_3_L3jD']/div/span/div\").click()\n",
    "    try : \n",
    "        rate = driver.find_element_by_xpath(\"//div[@class='col-4-12']/div/div/div/div\")\n",
    "        if rate.text is None :\n",
    "            ratings.append(\"-\")\n",
    "        else :\n",
    "            ratings.append(rate.text)\n",
    "    except NoSuchElementException :\n",
    "        ratings.append(\"-\")\n",
    "        \n",
    "    time.sleep(5)    "
   ]
  },
  {
   "cell_type": "code",
   "execution_count": 9,
   "metadata": {},
   "outputs": [],
   "source": [
    "color = []\n",
    "for page in url:\n",
    "    driver.get(page)\n",
    "    driver.find_element_by_xpath(\"//tr[@class='_1s_Smc row']/td[2]/ul/li\")"
   ]
  },
  {
   "cell_type": "code",
   "execution_count": 10,
   "metadata": {},
   "outputs": [],
   "source": [
    "colors = []\n",
    "for page in url :\n",
    "    driver.get(page)\n",
    "    try : \n",
    "        col = driver.find_element_by_xpath(\"//div[@class='_1AtVbE col-12-12']/div/div/div/div/table/tbody/tr[4]/td[2]/ul/li\")\n",
    "        if col.text is None :\n",
    "            colors.append(\"-\")\n",
    "        else :\n",
    "            colors.append(col.text)\n",
    "    except NoSuchElementException :\n",
    "        colors.append(\"-\")\n",
    "        \n",
    "    time.sleep(5)   "
   ]
  },
  {
   "cell_type": "code",
   "execution_count": 11,
   "metadata": {},
   "outputs": [
    {
     "data": {
      "text/plain": [
       "<selenium.webdriver.remote.webelement.WebElement (session=\"b822dc19d87e89df2f6869b1264c3be9\", element=\"87b891cf-7682-4b57-829a-db09db9da9cb\")>"
      ]
     },
     "execution_count": 11,
     "metadata": {},
     "output_type": "execute_result"
    }
   ],
   "source": [
    "driver.find_element_by_xpath(\"//button[@class='_2KpZ6l _1FH0tX']\")"
   ]
  },
  {
   "cell_type": "code",
   "execution_count": 12,
   "metadata": {},
   "outputs": [],
   "source": [
    "RAM = []\n",
    "for page in url :\n",
    "    driver.get(page)\n",
    "    driver.find_element_by_xpath(\"//button[@class='_2KpZ6l _1FH0tX']\").click()\n",
    "    try : \n",
    "        ram = driver.find_element_by_xpath(\"//div[@class='_1AtVbE col-12-12']/div/div/div/div[4]/table/tbody/tr[2]/td[2]/ul/li\")\n",
    "        if ram.text is None :\n",
    "            RAM.append(\"-\")\n",
    "        else :\n",
    "            RAM.append(ram.text)\n",
    "    except NoSuchElementException :\n",
    "        RAM.append(\"-\")\n",
    "        \n",
    "    time.sleep(5)  "
   ]
  },
  {
   "cell_type": "code",
   "execution_count": 13,
   "metadata": {},
   "outputs": [],
   "source": [
    "storage = []\n",
    "for page in url :\n",
    "    driver.get(page)\n",
    "    driver.find_element_by_xpath(\"//button[@class='_2KpZ6l _1FH0tX']\").click()\n",
    "    try : \n",
    "        stor = driver.find_element_by_xpath(\"//div[@class='_1AtVbE col-12-12']/div/div/div/div[4]/table/tbody/tr[1]/td/ul/li\")\n",
    "        if stor.text is None :\n",
    "            storage.append(\"-\")\n",
    "        else :\n",
    "            storage.append(stor.text)\n",
    "    except NoSuchElementException :\n",
    "        storage.append(\"-\")\n",
    "        \n",
    "    time.sleep(5) "
   ]
  },
  {
   "cell_type": "code",
   "execution_count": 14,
   "metadata": {},
   "outputs": [],
   "source": [
    "display = []\n",
    "for page in url :\n",
    "    driver.get(page)\n",
    "    driver.find_element_by_xpath(\"//button[@class='_2KpZ6l _1FH0tX']\").click()\n",
    "    try : \n",
    "        disp = driver.find_element_by_xpath(\"//div[@class='_1AtVbE col-12-12']/div/div/div[1]/div[2]/table/tbody/tr[1]/td/ul/li\")\n",
    "        if disp.text is None :\n",
    "            display.append(\"-\")\n",
    "        else :\n",
    "            display.append(disp.text)\n",
    "    except NoSuchElementException :\n",
    "        display.append(\"-\")\n",
    "        \n",
    "    time.sleep(5) "
   ]
  },
  {
   "cell_type": "code",
   "execution_count": 15,
   "metadata": {},
   "outputs": [],
   "source": [
    "display_res = []\n",
    "for page in url :\n",
    "    driver.get(page)\n",
    "    driver.find_element_by_xpath(\"//button[@class='_2KpZ6l _1FH0tX']\").click()\n",
    "    try : \n",
    "        dr = driver.find_element_by_xpath(\"//div[@class='_1AtVbE col-12-12']/div/div/div[1]/div[2]/table/tbody/tr[2]/td/ul/li\")\n",
    "        if dr.text is None :\n",
    "            display_res.append(\"-\")\n",
    "        else :\n",
    "            display_res.append(dr.text)\n",
    "    except NoSuchElementException :\n",
    "        display_res.append(\"-\")\n",
    "        \n",
    "    time.sleep(5) "
   ]
  },
  {
   "cell_type": "code",
   "execution_count": 16,
   "metadata": {},
   "outputs": [],
   "source": [
    "processor = []\n",
    "for page in url :\n",
    "    driver.get(page)\n",
    "    driver.find_element_by_xpath(\"//button[@class='_2KpZ6l _1FH0tX']\").click()\n",
    "    try : \n",
    "        p = driver.find_element_by_xpath(\"//div[@class='_1AtVbE col-12-12']/div/div/div[1]/div[3]/table/tbody/tr[2]/td/ul/li\")\n",
    "        if p.text is None :\n",
    "            processor.append(\"-\")\n",
    "        else :\n",
    "            processor.append(p.text)\n",
    "    except NoSuchElementException :\n",
    "        processor.append(\"-\")\n",
    "        \n",
    "    time.sleep(5) "
   ]
  },
  {
   "cell_type": "code",
   "execution_count": 17,
   "metadata": {},
   "outputs": [],
   "source": [
    "primary_camera = []\n",
    "for page in url :\n",
    "    driver.get(page)\n",
    "    driver.find_element_by_xpath(\"//button[@class='_2KpZ6l _1FH0tX']\").click()\n",
    "    try : \n",
    "        pc = driver.find_element_by_xpath(\"//div[@class='_1AtVbE col-12-12']/div/div/div[1]/div[5]/table/tbody/tr[2]/td/ul/li\")\n",
    "        if pm.text is None :\n",
    "            primary_camera.append(\"-\")\n",
    "        else :\n",
    "            primary_camera.append(pc.text)\n",
    "    except NoSuchElementException :\n",
    "        primary_camera.append(\"-\")\n",
    "        \n",
    "    time.sleep(5) "
   ]
  },
  {
   "cell_type": "code",
   "execution_count": 18,
   "metadata": {},
   "outputs": [],
   "source": [
    "secondary_cam = []\n",
    "for page in url :\n",
    "    driver.get(page)\n",
    "    driver.find_element_by_xpath(\"//button[@class='_2KpZ6l _1FH0tX']\").click()\n",
    "    try : \n",
    "        sc = driver.find_element_by_xpath(\"//div[@class='_1AtVbE col-12-12']/div/div/div[1]/div[5]/table/tbody/tr[5]/td/ul/li\")\n",
    "        if sc.text is None :\n",
    "            secondary_camera.append(\"-\")\n",
    "        else :\n",
    "            secondary_camera.append(sc.text)\n",
    "    except NoSuchElementException :\n",
    "        secondary_camera.append(\"-\")\n",
    "        \n",
    "    time.sleep(5) "
   ]
  },
  {
   "cell_type": "code",
   "execution_count": 19,
   "metadata": {},
   "outputs": [],
   "source": [
    "battery = []\n",
    "for page in url :\n",
    "    driver.get(page)\n",
    "    driver.find_element_by_xpath(\"//button[@class='_2KpZ6l _1FH0tX']\").click()\n",
    "    try : \n",
    "        b = driver.find_element_by_xpath(\"//div[@class='_1AtVbE col-12-12']/div/div/div[1]/div[10]/table/tbody/tr[1]/td/ul/li\")\n",
    "        if b.text is None :\n",
    "            battery.append(\"-\")\n",
    "        else :\n",
    "            battery.append(b.text)\n",
    "    except NoSuchElementException :\n",
    "        battery.append(\"-\")\n",
    "        \n",
    "    time.sleep(5) "
   ]
  },
  {
   "cell_type": "code",
   "execution_count": 20,
   "metadata": {},
   "outputs": [],
   "source": [
    "df = pd.DataFrame({})"
   ]
  },
  {
   "cell_type": "code",
   "execution_count": 21,
   "metadata": {},
   "outputs": [],
   "source": [
    "df['Brand_name'] = brand_name\n",
    "df['Price'] = Price\n",
    "df['Ratings'] = ratings\n",
    "df['Color'] = colors\n",
    "df['RAM'] = RAM\n",
    "df['ROM'] = storage\n",
    "df['Display_size']=display\n",
    "df['Display_resolution']=display_res\n",
    "df['Processor']=processor\n",
    "df['Primary_camera']=primary_camera\n",
    "df['Secondary_camera']=secondary_camera\n",
    "df['Battery']=battery\n",
    "df['Product_url']=url"
   ]
  },
  {
   "cell_type": "code",
   "execution_count": 22,
   "metadata": {},
   "outputs": [
    {
     "data": {
      "text/html": [
       "<div>\n",
       "<style scoped>\n",
       "    .dataframe tbody tr th:only-of-type {\n",
       "        vertical-align: middle;\n",
       "    }\n",
       "\n",
       "    .dataframe tbody tr th {\n",
       "        vertical-align: top;\n",
       "    }\n",
       "\n",
       "    .dataframe thead th {\n",
       "        text-align: right;\n",
       "    }\n",
       "</style>\n",
       "<table border=\"1\" class=\"dataframe\">\n",
       "  <thead>\n",
       "    <tr style=\"text-align: right;\">\n",
       "      <th></th>\n",
       "      <th>Brand_name</th>\n",
       "      <th>Price</th>\n",
       "      <th>Ratings</th>\n",
       "      <th>Color</th>\n",
       "      <th>RAM</th>\n",
       "      <th>ROM</th>\n",
       "      <th>Display_size</th>\n",
       "      <th>Display_resolution</th>\n",
       "      <th>Processor</th>\n",
       "      <th>Primary_camera</th>\n",
       "      <th>Secondary_camera</th>\n",
       "      <th>Battery</th>\n",
       "      <th>Product_url</th>\n",
       "    </tr>\n",
       "  </thead>\n",
       "  <tbody>\n",
       "    <tr>\n",
       "      <th>0</th>\n",
       "      <td>REDMI 9 (Sporty Orange, 128 GB)  (4 GB RAM)</td>\n",
       "      <td>₹10,443</td>\n",
       "      <td>-</td>\n",
       "      <td>Sporty Orange</td>\n",
       "      <td>4 GB</td>\n",
       "      <td>128 GB</td>\n",
       "      <td>16.59 cm (6.53 inch)</td>\n",
       "      <td>720X1600</td>\n",
       "      <td>Octa Core</td>\n",
       "      <td>13MP Rear Camera</td>\n",
       "      <td>Yes</td>\n",
       "      <td>1 Year ManuFacturer Warrenty</td>\n",
       "      <td>https://www.flipkart.com/redmi-9-sporty-orange...</td>\n",
       "    </tr>\n",
       "    <tr>\n",
       "      <th>1</th>\n",
       "      <td>REDMI 9 (CarbonBlack, 128 GB)  (4 GB RAM)</td>\n",
       "      <td>₹11,000</td>\n",
       "      <td>-</td>\n",
       "      <td>CarbonBlack</td>\n",
       "      <td>4 GB</td>\n",
       "      <td>128 GB</td>\n",
       "      <td>16.59 cm (6.53 inch)</td>\n",
       "      <td>720x1600</td>\n",
       "      <td>Octa Core</td>\n",
       "      <td>13MP Rear Camera</td>\n",
       "      <td>Yes</td>\n",
       "      <td>5000 mAh</td>\n",
       "      <td>https://www.flipkart.com/redmi-9-carbonblack-1...</td>\n",
       "    </tr>\n",
       "    <tr>\n",
       "      <th>2</th>\n",
       "      <td>Redmi 9 (Sporty Orange, 64 GB)  (4 GB RAM)</td>\n",
       "      <td>₹9,212</td>\n",
       "      <td>4.2</td>\n",
       "      <td>Sporty Orange</td>\n",
       "      <td>4 GB</td>\n",
       "      <td>64 GB</td>\n",
       "      <td>16.59 cm (6.53 inch)</td>\n",
       "      <td>720 x 1600$$pixel</td>\n",
       "      <td>MediaTek Helio G35</td>\n",
       "      <td>13MP + 8MP</td>\n",
       "      <td>5MP Front Camera</td>\n",
       "      <td>5000 mAh</td>\n",
       "      <td>https://www.flipkart.com/redmi-9-sporty-orange...</td>\n",
       "    </tr>\n",
       "    <tr>\n",
       "      <th>3</th>\n",
       "      <td>Redmi 9 (Sky Blue, 64 GB)  (4 GB RAM)</td>\n",
       "      <td>₹9,245</td>\n",
       "      <td>4.2</td>\n",
       "      <td>Sky Blue</td>\n",
       "      <td>4 GB</td>\n",
       "      <td>64 GB</td>\n",
       "      <td>16.59 cm (6.53 inch)</td>\n",
       "      <td>720 x 1600$$pixel</td>\n",
       "      <td>MediaTek Helio G35</td>\n",
       "      <td>13MP + 2MP</td>\n",
       "      <td>5MP Front Camera</td>\n",
       "      <td>5000 mAh</td>\n",
       "      <td>https://www.flipkart.com/redmi-9-sky-blue-64-g...</td>\n",
       "    </tr>\n",
       "    <tr>\n",
       "      <th>4</th>\n",
       "      <td>Redmi 9 (Carbon Black, 64 GB)  (4 GB RAM)</td>\n",
       "      <td>₹9,459</td>\n",
       "      <td>4.2</td>\n",
       "      <td>Carbon Black</td>\n",
       "      <td>4 GB</td>\n",
       "      <td>64 GB</td>\n",
       "      <td>16.59 cm (6.53 inch)</td>\n",
       "      <td>720 x 1600$$pixel</td>\n",
       "      <td>MediaTek Helio G35</td>\n",
       "      <td>13MP + 2MP</td>\n",
       "      <td>5MP Front Camera</td>\n",
       "      <td>5000 mAh</td>\n",
       "      <td>https://www.flipkart.com/redmi-9-carbon-black-...</td>\n",
       "    </tr>\n",
       "  </tbody>\n",
       "</table>\n",
       "</div>"
      ],
      "text/plain": [
       "                                    Brand_name    Price Ratings  \\\n",
       "0  REDMI 9 (Sporty Orange, 128 GB)  (4 GB RAM)  ₹10,443       -   \n",
       "1    REDMI 9 (CarbonBlack, 128 GB)  (4 GB RAM)  ₹11,000       -   \n",
       "2   Redmi 9 (Sporty Orange, 64 GB)  (4 GB RAM)   ₹9,212     4.2   \n",
       "3        Redmi 9 (Sky Blue, 64 GB)  (4 GB RAM)   ₹9,245     4.2   \n",
       "4    Redmi 9 (Carbon Black, 64 GB)  (4 GB RAM)   ₹9,459     4.2   \n",
       "\n",
       "           Color   RAM     ROM          Display_size Display_resolution  \\\n",
       "0  Sporty Orange  4 GB  128 GB  16.59 cm (6.53 inch)           720X1600   \n",
       "1    CarbonBlack  4 GB  128 GB  16.59 cm (6.53 inch)           720x1600   \n",
       "2  Sporty Orange  4 GB   64 GB  16.59 cm (6.53 inch)  720 x 1600$$pixel   \n",
       "3       Sky Blue  4 GB   64 GB  16.59 cm (6.53 inch)  720 x 1600$$pixel   \n",
       "4   Carbon Black  4 GB   64 GB  16.59 cm (6.53 inch)  720 x 1600$$pixel   \n",
       "\n",
       "            Processor    Primary_camera  Secondary_camera  \\\n",
       "0           Octa Core  13MP Rear Camera               Yes   \n",
       "1           Octa Core  13MP Rear Camera               Yes   \n",
       "2  MediaTek Helio G35        13MP + 8MP  5MP Front Camera   \n",
       "3  MediaTek Helio G35        13MP + 2MP  5MP Front Camera   \n",
       "4  MediaTek Helio G35        13MP + 2MP  5MP Front Camera   \n",
       "\n",
       "                        Battery  \\\n",
       "0  1 Year ManuFacturer Warrenty   \n",
       "1                      5000 mAh   \n",
       "2                      5000 mAh   \n",
       "3                      5000 mAh   \n",
       "4                      5000 mAh   \n",
       "\n",
       "                                         Product_url  \n",
       "0  https://www.flipkart.com/redmi-9-sporty-orange...  \n",
       "1  https://www.flipkart.com/redmi-9-carbonblack-1...  \n",
       "2  https://www.flipkart.com/redmi-9-sporty-orange...  \n",
       "3  https://www.flipkart.com/redmi-9-sky-blue-64-g...  \n",
       "4  https://www.flipkart.com/redmi-9-carbon-black-...  "
      ]
     },
     "execution_count": 22,
     "metadata": {},
     "output_type": "execute_result"
    }
   ],
   "source": [
    "df.head()"
   ]
  },
  {
   "cell_type": "code",
   "execution_count": 23,
   "metadata": {},
   "outputs": [],
   "source": [
    "df.to_csv('smartphone.csv')"
   ]
  },
  {
   "cell_type": "code",
   "execution_count": null,
   "metadata": {},
   "outputs": [],
   "source": []
  }
 ],
 "metadata": {
  "kernelspec": {
   "display_name": "Python 3",
   "language": "python",
   "name": "python3"
  },
  "language_info": {
   "codemirror_mode": {
    "name": "ipython",
    "version": 3
   },
   "file_extension": ".py",
   "mimetype": "text/x-python",
   "name": "python",
   "nbconvert_exporter": "python",
   "pygments_lexer": "ipython3",
   "version": "3.8.5"
  }
 },
 "nbformat": 4,
 "nbformat_minor": 4
}
