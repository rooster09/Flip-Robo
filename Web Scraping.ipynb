{
 "cells": [
  {
   "cell_type": "code",
   "execution_count": 2,
   "id": "13411737",
   "metadata": {},
   "outputs": [
    {
     "name": "stdout",
     "output_type": "stream",
     "text": [
      "Collecting bs4\n",
      "  Downloading bs4-0.0.1.tar.gz (1.1 kB)\n",
      "Requirement already satisfied: beautifulsoup4 in c:\\users\\rooster\\anaconda3\\lib\\site-packages (from bs4) (4.9.3)\n",
      "Requirement already satisfied: soupsieve>1.2 in c:\\users\\rooster\\anaconda3\\lib\\site-packages (from beautifulsoup4->bs4) (2.2.1)\n",
      "Building wheels for collected packages: bs4\n",
      "  Building wheel for bs4 (setup.py): started\n",
      "  Building wheel for bs4 (setup.py): finished with status 'done'\n",
      "  Created wheel for bs4: filename=bs4-0.0.1-py3-none-any.whl size=1273 sha256=71db093d92dded1cdd468eaad0221a631be7743d5b241153e74f90d6c4edeb87\n",
      "  Stored in directory: c:\\users\\rooster\\appdata\\local\\pip\\cache\\wheels\\75\\78\\21\\68b124549c9bdc94f822c02fb9aa3578a669843f9767776bca\n",
      "Successfully built bs4\n",
      "Installing collected packages: bs4\n",
      "Successfully installed bs4-0.0.1\n",
      "Requirement already satisfied: requests in c:\\users\\rooster\\anaconda3\\lib\\site-packages (2.25.1)\n",
      "Requirement already satisfied: certifi>=2017.4.17 in c:\\users\\rooster\\anaconda3\\lib\\site-packages (from requests) (2020.12.5)\n",
      "Requirement already satisfied: urllib3<1.27,>=1.21.1 in c:\\users\\rooster\\anaconda3\\lib\\site-packages (from requests) (1.26.4)\n",
      "Requirement already satisfied: idna<3,>=2.5 in c:\\users\\rooster\\anaconda3\\lib\\site-packages (from requests) (2.10)\n",
      "Requirement already satisfied: chardet<5,>=3.0.2 in c:\\users\\rooster\\anaconda3\\lib\\site-packages (from requests) (4.0.0)\n"
     ]
    }
   ],
   "source": [
    "!pip install bs4\n",
    "!pip install requests"
   ]
  },
  {
   "cell_type": "code",
   "execution_count": 8,
   "id": "f3aa56fa",
   "metadata": {},
   "outputs": [],
   "source": [
    "from bs4 import BeautifulSoup\n",
    "import requests"
   ]
  },
  {
   "cell_type": "markdown",
   "id": "8dbe036a",
   "metadata": {},
   "source": [
    "**Question 1**"
   ]
  },
  {
   "cell_type": "code",
   "execution_count": 9,
   "id": "89019dc9",
   "metadata": {},
   "outputs": [],
   "source": [
    "wikiPage = requests.get(\"https://en.wikipedia.org/wiki/Main_Page\")"
   ]
  },
  {
   "cell_type": "code",
   "execution_count": 10,
   "id": "4a9fad7a",
   "metadata": {},
   "outputs": [
    {
     "data": {
      "text/plain": [
       "<Response [200]>"
      ]
     },
     "execution_count": 10,
     "metadata": {},
     "output_type": "execute_result"
    }
   ],
   "source": [
    "wikiPage"
   ]
  },
  {
   "cell_type": "code",
   "execution_count": 13,
   "id": "391e7323",
   "metadata": {},
   "outputs": [],
   "source": [
    "wikiPageSt = BeautifulSoup(wikiPage.content)"
   ]
  },
  {
   "cell_type": "code",
   "execution_count": 37,
   "id": "e9e64810",
   "metadata": {},
   "outputs": [],
   "source": [
    "headertagsh2 = wikiPageSt.find_all('h2')\n",
    "headertagsh3 = wikiPageSt.find_all('h3')"
   ]
  },
  {
   "cell_type": "code",
   "execution_count": null,
   "id": "a5bc03e3",
   "metadata": {},
   "outputs": [],
   "source": [
    "headertagsh2\n",
    "headertagsh3"
   ]
  },
  {
   "cell_type": "markdown",
   "id": "5e19a04e",
   "metadata": {},
   "source": [
    "**Question 2**"
   ]
  },
  {
   "cell_type": "code",
   "execution_count": 43,
   "id": "0c8e76e4",
   "metadata": {},
   "outputs": [],
   "source": [
    "imdb = requests.get(\"https://www.imdb.com/chart/top/?ref_=nv_mv_250\")"
   ]
  },
  {
   "cell_type": "code",
   "execution_count": 44,
   "id": "0b76006d",
   "metadata": {},
   "outputs": [
    {
     "data": {
      "text/plain": [
       "<Response [200]>"
      ]
     },
     "execution_count": 44,
     "metadata": {},
     "output_type": "execute_result"
    }
   ],
   "source": [
    "imdb\n"
   ]
  },
  {
   "cell_type": "code",
   "execution_count": 46,
   "id": "847f6bc7",
   "metadata": {},
   "outputs": [],
   "source": [
    "imdbc = BeautifulSoup(imdb.content)"
   ]
  },
  {
   "cell_type": "code",
   "execution_count": 48,
   "id": "89c96858",
   "metadata": {},
   "outputs": [],
   "source": [
    "imdbcname = imdbc.find_all('td',class_=\"titleColumn\",limit=100)"
   ]
  },
  {
   "cell_type": "code",
   "execution_count": 51,
   "id": "bd1afe76",
   "metadata": {},
   "outputs": [
    {
     "data": {
      "text/plain": [
       "100"
      ]
     },
     "execution_count": 51,
     "metadata": {},
     "output_type": "execute_result"
    }
   ],
   "source": [
    "len(imdbcname)"
   ]
  },
  {
   "cell_type": "code",
   "execution_count": 64,
   "id": "8ae85902",
   "metadata": {},
   "outputs": [
    {
     "data": {
      "text/plain": [
       "['The Shawshank Redemption',\n",
       " 'The Godfather',\n",
       " 'The Godfather: Part II',\n",
       " 'The Dark Knight',\n",
       " '12 Angry Men',\n",
       " \"Schindler's List\",\n",
       " 'The Lord of the Rings: The Return of the King',\n",
       " 'Pulp Fiction',\n",
       " 'Il buono, il brutto, il cattivo',\n",
       " 'The Lord of the Rings: The Fellowship of the Ring',\n",
       " 'Fight Club',\n",
       " 'Forrest Gump',\n",
       " 'Inception',\n",
       " 'The Lord of the Rings: The Two Towers',\n",
       " 'Star Wars: Episode V - The Empire Strikes Back',\n",
       " 'The Matrix',\n",
       " 'Goodfellas',\n",
       " \"One Flew Over the Cuckoo's Nest\",\n",
       " 'Shichinin no samurai',\n",
       " 'Se7en',\n",
       " 'Cidade de Deus',\n",
       " 'The Silence of the Lambs',\n",
       " 'La vita è bella',\n",
       " \"It's a Wonderful Life\",\n",
       " 'Star Wars',\n",
       " 'Saving Private Ryan',\n",
       " 'Sen to Chihiro no kamikakushi',\n",
       " 'Interstellar',\n",
       " 'The Green Mile',\n",
       " 'Gisaengchung',\n",
       " 'Léon',\n",
       " 'Seppuku',\n",
       " 'The Usual Suspects',\n",
       " 'The Pianist',\n",
       " 'Back to the Future',\n",
       " 'Terminator 2: Judgment Day',\n",
       " 'Modern Times',\n",
       " 'Psycho',\n",
       " 'The Lion King',\n",
       " 'American History X',\n",
       " 'City Lights',\n",
       " 'Hotaru no haka',\n",
       " 'Gladiator',\n",
       " 'Whiplash',\n",
       " 'The Departed',\n",
       " 'The Intouchables',\n",
       " 'The Prestige',\n",
       " 'Casablanca',\n",
       " 'Once Upon a Time in the West',\n",
       " 'Rear Window',\n",
       " 'Nuovo Cinema Paradiso',\n",
       " 'Alien',\n",
       " 'Apocalypse Now',\n",
       " 'Memento',\n",
       " 'Raiders of the Lost Ark',\n",
       " 'The Great Dictator',\n",
       " 'The Lives of Others',\n",
       " 'Django Unchained',\n",
       " 'Paths of Glory',\n",
       " 'Sunset Blvd.',\n",
       " 'WALL·E',\n",
       " 'The Shining',\n",
       " 'Avengers: Infinity War',\n",
       " 'Witness for the Prosecution',\n",
       " 'Dr. Strangelove or: How I Learned to Stop Worrying and Love the Bomb',\n",
       " 'Joker',\n",
       " 'Spider-Man: Into the Spider-Verse',\n",
       " 'Oldeuboi',\n",
       " 'Mononoke-hime',\n",
       " 'Hamilton',\n",
       " 'Kimi no na wa.',\n",
       " 'Once Upon a Time in America',\n",
       " 'The Dark Knight Rises',\n",
       " 'Aliens',\n",
       " 'Coco',\n",
       " 'Das Boot',\n",
       " 'Capharnaüm',\n",
       " 'Avengers: Endgame',\n",
       " 'Tengoku to jigoku',\n",
       " 'American Beauty',\n",
       " 'Toy Story',\n",
       " '3 Idiots',\n",
       " 'Braveheart',\n",
       " 'Amadeus',\n",
       " 'Pather Panchali',\n",
       " 'Inglourious Basterds',\n",
       " 'Good Will Hunting',\n",
       " 'Star Wars: Episode VI - Return of the Jedi',\n",
       " '2001: A Space Odyssey',\n",
       " 'Reservoir Dogs',\n",
       " 'Taare Zameen Par',\n",
       " 'M - Eine Stadt sucht einen Mörder',\n",
       " 'Vertigo',\n",
       " 'Citizen Kane',\n",
       " 'Jagten',\n",
       " 'Idi i smotri',\n",
       " 'Requiem for a Dream',\n",
       " \"Singin' in the Rain\",\n",
       " 'North by Northwest',\n",
       " 'Eternal Sunshine of the Spotless Mind']"
      ]
     },
     "execution_count": 64,
     "metadata": {},
     "output_type": "execute_result"
    }
   ],
   "source": [
    "imdbcnamel = []\n",
    "for i in imdbcname:\n",
    "    for j in i.find_all(\"a\"):\n",
    "        imdbcnamel.append(j.text.strip())\n",
    "       \n",
    "    \n",
    "imdbcnamel    "
   ]
  },
  {
   "cell_type": "code",
   "execution_count": 67,
   "id": "3d77f963",
   "metadata": {},
   "outputs": [
    {
     "data": {
      "text/plain": [
       "['(1994)',\n",
       " '(1972)',\n",
       " '(1974)',\n",
       " '(2008)',\n",
       " '(1957)',\n",
       " '(1993)',\n",
       " '(2003)',\n",
       " '(1994)',\n",
       " '(1966)',\n",
       " '(2001)',\n",
       " '(1999)',\n",
       " '(1994)',\n",
       " '(2010)',\n",
       " '(2002)',\n",
       " '(1980)',\n",
       " '(1999)',\n",
       " '(1990)',\n",
       " '(1975)',\n",
       " '(1954)',\n",
       " '(1995)',\n",
       " '(2002)',\n",
       " '(1991)',\n",
       " '(1997)',\n",
       " '(1946)',\n",
       " '(1977)',\n",
       " '(1998)',\n",
       " '(2001)',\n",
       " '(2014)',\n",
       " '(1999)',\n",
       " '(2019)',\n",
       " '(1994)',\n",
       " '(1962)',\n",
       " '(1995)',\n",
       " '(2002)',\n",
       " '(1985)',\n",
       " '(1991)',\n",
       " '(1936)',\n",
       " '(1960)',\n",
       " '(1994)',\n",
       " '(1998)',\n",
       " '(1931)',\n",
       " '(1988)',\n",
       " '(2000)',\n",
       " '(2014)',\n",
       " '(2006)',\n",
       " '(2011)',\n",
       " '(2006)',\n",
       " '(1942)',\n",
       " '(1968)',\n",
       " '(1954)',\n",
       " '(1988)',\n",
       " '(1979)',\n",
       " '(1979)',\n",
       " '(2000)',\n",
       " '(1981)',\n",
       " '(1940)',\n",
       " '(2006)',\n",
       " '(2012)',\n",
       " '(1957)',\n",
       " '(1950)',\n",
       " '(2008)',\n",
       " '(1980)',\n",
       " '(2018)',\n",
       " '(1957)',\n",
       " '(1964)',\n",
       " '(2019)',\n",
       " '(2018)',\n",
       " '(2003)',\n",
       " '(1997)',\n",
       " '(2020)',\n",
       " '(2016)',\n",
       " '(1984)',\n",
       " '(2012)',\n",
       " '(1986)',\n",
       " '(2017)',\n",
       " '(1981)',\n",
       " '(2018)',\n",
       " '(2019)',\n",
       " '(1963)',\n",
       " '(1999)',\n",
       " '(1995)',\n",
       " '(2009)',\n",
       " '(1995)',\n",
       " '(1984)',\n",
       " '(1955)',\n",
       " '(2009)',\n",
       " '(1997)',\n",
       " '(1983)',\n",
       " '(1968)',\n",
       " '(1992)',\n",
       " '(2007)',\n",
       " '(1931)',\n",
       " '(1958)',\n",
       " '(1941)',\n",
       " '(2012)',\n",
       " '(1985)',\n",
       " '(2000)',\n",
       " '(1952)',\n",
       " '(1959)',\n",
       " '(2004)']"
      ]
     },
     "execution_count": 67,
     "metadata": {},
     "output_type": "execute_result"
    }
   ],
   "source": [
    "imdbyor = []\n",
    "for i in imdbcname:\n",
    "    for j in i.find_all(\"span\"):\n",
    "        imdbyor.append(j.text.strip())\n",
    "        \n",
    "imdbyor        "
   ]
  },
  {
   "cell_type": "code",
   "execution_count": 68,
   "id": "b352c0b4",
   "metadata": {},
   "outputs": [],
   "source": [
    "imdbr = imdbc.find_all('td', class_=\"ratingColumn imdbRating\", limit=100)"
   ]
  },
  {
   "cell_type": "code",
   "execution_count": 69,
   "id": "1886e6d6",
   "metadata": {},
   "outputs": [
    {
     "data": {
      "text/plain": [
       "100"
      ]
     },
     "execution_count": 69,
     "metadata": {},
     "output_type": "execute_result"
    }
   ],
   "source": [
    "len(imdbr)"
   ]
  },
  {
   "cell_type": "code",
   "execution_count": 71,
   "id": "8027815e",
   "metadata": {},
   "outputs": [
    {
     "data": {
      "text/plain": [
       "100"
      ]
     },
     "execution_count": 71,
     "metadata": {},
     "output_type": "execute_result"
    }
   ],
   "source": [
    "imdbrAll = []\n",
    "for i in imdbr:\n",
    "    imdbrAll.append(i.text.strip())\n",
    "    \n",
    "len(imdbrAll)    \n",
    "    "
   ]
  },
  {
   "cell_type": "code",
   "execution_count": 72,
   "id": "1380cd8a",
   "metadata": {},
   "outputs": [],
   "source": [
    "import pandas as pd"
   ]
  },
  {
   "cell_type": "code",
   "execution_count": 74,
   "id": "66eb3f15",
   "metadata": {},
   "outputs": [],
   "source": [
    "data = pd.DataFrame({})\n",
    "data['Name'] = imdbcnamel\n"
   ]
  },
  {
   "cell_type": "code",
   "execution_count": 75,
   "id": "bcbba737",
   "metadata": {},
   "outputs": [],
   "source": [
    "data['IMDB rating'] = imdbrAll\n",
    "data['Year of release'] = imdbyor"
   ]
  },
  {
   "cell_type": "code",
   "execution_count": 78,
   "id": "53fec384",
   "metadata": {},
   "outputs": [
    {
     "data": {
      "text/html": [
       "<div>\n",
       "<style scoped>\n",
       "    .dataframe tbody tr th:only-of-type {\n",
       "        vertical-align: middle;\n",
       "    }\n",
       "\n",
       "    .dataframe tbody tr th {\n",
       "        vertical-align: top;\n",
       "    }\n",
       "\n",
       "    .dataframe thead th {\n",
       "        text-align: right;\n",
       "    }\n",
       "</style>\n",
       "<table border=\"1\" class=\"dataframe\">\n",
       "  <thead>\n",
       "    <tr style=\"text-align: right;\">\n",
       "      <th></th>\n",
       "      <th>Name</th>\n",
       "      <th>IMDB rating</th>\n",
       "      <th>Year of release</th>\n",
       "    </tr>\n",
       "  </thead>\n",
       "  <tbody>\n",
       "    <tr>\n",
       "      <th>0</th>\n",
       "      <td>The Shawshank Redemption</td>\n",
       "      <td>9.2</td>\n",
       "      <td>(1994)</td>\n",
       "    </tr>\n",
       "    <tr>\n",
       "      <th>1</th>\n",
       "      <td>The Godfather</td>\n",
       "      <td>9.1</td>\n",
       "      <td>(1972)</td>\n",
       "    </tr>\n",
       "    <tr>\n",
       "      <th>2</th>\n",
       "      <td>The Godfather: Part II</td>\n",
       "      <td>9.0</td>\n",
       "      <td>(1974)</td>\n",
       "    </tr>\n",
       "    <tr>\n",
       "      <th>3</th>\n",
       "      <td>The Dark Knight</td>\n",
       "      <td>9.0</td>\n",
       "      <td>(2008)</td>\n",
       "    </tr>\n",
       "    <tr>\n",
       "      <th>4</th>\n",
       "      <td>12 Angry Men</td>\n",
       "      <td>8.9</td>\n",
       "      <td>(1957)</td>\n",
       "    </tr>\n",
       "    <tr>\n",
       "      <th>...</th>\n",
       "      <td>...</td>\n",
       "      <td>...</td>\n",
       "      <td>...</td>\n",
       "    </tr>\n",
       "    <tr>\n",
       "      <th>95</th>\n",
       "      <td>Idi i smotri</td>\n",
       "      <td>8.3</td>\n",
       "      <td>(1985)</td>\n",
       "    </tr>\n",
       "    <tr>\n",
       "      <th>96</th>\n",
       "      <td>Requiem for a Dream</td>\n",
       "      <td>8.3</td>\n",
       "      <td>(2000)</td>\n",
       "    </tr>\n",
       "    <tr>\n",
       "      <th>97</th>\n",
       "      <td>Singin' in the Rain</td>\n",
       "      <td>8.3</td>\n",
       "      <td>(1952)</td>\n",
       "    </tr>\n",
       "    <tr>\n",
       "      <th>98</th>\n",
       "      <td>North by Northwest</td>\n",
       "      <td>8.3</td>\n",
       "      <td>(1959)</td>\n",
       "    </tr>\n",
       "    <tr>\n",
       "      <th>99</th>\n",
       "      <td>Eternal Sunshine of the Spotless Mind</td>\n",
       "      <td>8.3</td>\n",
       "      <td>(2004)</td>\n",
       "    </tr>\n",
       "  </tbody>\n",
       "</table>\n",
       "<p>100 rows × 3 columns</p>\n",
       "</div>"
      ],
      "text/plain": [
       "                                     Name IMDB rating Year of release\n",
       "0                The Shawshank Redemption         9.2          (1994)\n",
       "1                           The Godfather         9.1          (1972)\n",
       "2                  The Godfather: Part II         9.0          (1974)\n",
       "3                         The Dark Knight         9.0          (2008)\n",
       "4                            12 Angry Men         8.9          (1957)\n",
       "..                                    ...         ...             ...\n",
       "95                           Idi i smotri         8.3          (1985)\n",
       "96                    Requiem for a Dream         8.3          (2000)\n",
       "97                    Singin' in the Rain         8.3          (1952)\n",
       "98                     North by Northwest         8.3          (1959)\n",
       "99  Eternal Sunshine of the Spotless Mind         8.3          (2004)\n",
       "\n",
       "[100 rows x 3 columns]"
      ]
     },
     "execution_count": 78,
     "metadata": {},
     "output_type": "execute_result"
    }
   ],
   "source": [
    "data\n"
   ]
  },
  {
   "cell_type": "markdown",
   "id": "f2e568a0",
   "metadata": {},
   "source": [
    "**Question 3**"
   ]
  },
  {
   "cell_type": "code",
   "execution_count": 79,
   "id": "3b4ca133",
   "metadata": {},
   "outputs": [],
   "source": [
    "imdb = requests.get(\"https://www.imdb.com/india/top-rated-indian-movies/?pf_rd_m=A2FGELUUNOQJNL&pf_rd_p=2e9dfa9b-3e4d-4d39-acd2-8af11f252a59&pf_rd_r=PY2WSYRZQK04R8CQY9PZ&pf_rd_s=right-5&pf_rd_t=15506&pf_rd_i=top&ref_=chttp_india_tr_rhs_1\")"
   ]
  },
  {
   "cell_type": "code",
   "execution_count": 80,
   "id": "c5959e8f",
   "metadata": {},
   "outputs": [
    {
     "data": {
      "text/plain": [
       "<Response [200]>"
      ]
     },
     "execution_count": 80,
     "metadata": {},
     "output_type": "execute_result"
    }
   ],
   "source": [
    "imdb\n"
   ]
  },
  {
   "cell_type": "code",
   "execution_count": 81,
   "id": "6899c0b7",
   "metadata": {},
   "outputs": [
    {
     "data": {
      "text/html": [
       "<div>\n",
       "<style scoped>\n",
       "    .dataframe tbody tr th:only-of-type {\n",
       "        vertical-align: middle;\n",
       "    }\n",
       "\n",
       "    .dataframe tbody tr th {\n",
       "        vertical-align: top;\n",
       "    }\n",
       "\n",
       "    .dataframe thead th {\n",
       "        text-align: right;\n",
       "    }\n",
       "</style>\n",
       "<table border=\"1\" class=\"dataframe\">\n",
       "  <thead>\n",
       "    <tr style=\"text-align: right;\">\n",
       "      <th></th>\n",
       "      <th>Name</th>\n",
       "      <th>IMDB rating</th>\n",
       "      <th>Year of release</th>\n",
       "    </tr>\n",
       "  </thead>\n",
       "  <tbody>\n",
       "    <tr>\n",
       "      <th>0</th>\n",
       "      <td>Nayakan</td>\n",
       "      <td>8.5</td>\n",
       "      <td>(1987)</td>\n",
       "    </tr>\n",
       "    <tr>\n",
       "      <th>1</th>\n",
       "      <td>Pariyerum Perumal</td>\n",
       "      <td>8.5</td>\n",
       "      <td>(2018)</td>\n",
       "    </tr>\n",
       "    <tr>\n",
       "      <th>2</th>\n",
       "      <td>Anbe Sivam</td>\n",
       "      <td>8.5</td>\n",
       "      <td>(2003)</td>\n",
       "    </tr>\n",
       "    <tr>\n",
       "      <th>3</th>\n",
       "      <td>C/o Kancharapalem</td>\n",
       "      <td>8.5</td>\n",
       "      <td>(2018)</td>\n",
       "    </tr>\n",
       "    <tr>\n",
       "      <th>4</th>\n",
       "      <td>Golmaal</td>\n",
       "      <td>8.5</td>\n",
       "      <td>(1979)</td>\n",
       "    </tr>\n",
       "    <tr>\n",
       "      <th>...</th>\n",
       "      <td>...</td>\n",
       "      <td>...</td>\n",
       "      <td>...</td>\n",
       "    </tr>\n",
       "    <tr>\n",
       "      <th>95</th>\n",
       "      <td>Andaz Apna Apna</td>\n",
       "      <td>8.1</td>\n",
       "      <td>(1994)</td>\n",
       "    </tr>\n",
       "    <tr>\n",
       "      <th>96</th>\n",
       "      <td>Lagaan: Once Upon a Time in India</td>\n",
       "      <td>8.1</td>\n",
       "      <td>(2001)</td>\n",
       "    </tr>\n",
       "    <tr>\n",
       "      <th>97</th>\n",
       "      <td>Kahaani</td>\n",
       "      <td>8.1</td>\n",
       "      <td>(2012)</td>\n",
       "    </tr>\n",
       "    <tr>\n",
       "      <th>98</th>\n",
       "      <td>Uri: The Surgical Strike</td>\n",
       "      <td>8.1</td>\n",
       "      <td>(2018)</td>\n",
       "    </tr>\n",
       "    <tr>\n",
       "      <th>99</th>\n",
       "      <td>PK</td>\n",
       "      <td>8.1</td>\n",
       "      <td>(2014)</td>\n",
       "    </tr>\n",
       "  </tbody>\n",
       "</table>\n",
       "<p>100 rows × 3 columns</p>\n",
       "</div>"
      ],
      "text/plain": [
       "                                 Name IMDB rating Year of release\n",
       "0                             Nayakan         8.5          (1987)\n",
       "1                   Pariyerum Perumal         8.5          (2018)\n",
       "2                          Anbe Sivam         8.5          (2003)\n",
       "3                   C/o Kancharapalem         8.5          (2018)\n",
       "4                             Golmaal         8.5          (1979)\n",
       "..                                ...         ...             ...\n",
       "95                    Andaz Apna Apna         8.1          (1994)\n",
       "96  Lagaan: Once Upon a Time in India         8.1          (2001)\n",
       "97                            Kahaani         8.1          (2012)\n",
       "98           Uri: The Surgical Strike         8.1          (2018)\n",
       "99                                 PK         8.1          (2014)\n",
       "\n",
       "[100 rows x 3 columns]"
      ]
     },
     "execution_count": 81,
     "metadata": {},
     "output_type": "execute_result"
    }
   ],
   "source": [
    "imdbc = BeautifulSoup(imdb.content)\n",
    "imdbcname = imdbc.find_all('td',class_=\"titleColumn\",limit=100)\n",
    "len(imdbcname)\n",
    "imdbcnamel = []\n",
    "for i in imdbcname:\n",
    "    for j in i.find_all(\"a\"):\n",
    "        imdbcnamel.append(j.text.strip())\n",
    "       \n",
    "    \n",
    "imdbcnamel   \n",
    "\n",
    "imdbyor = []\n",
    "for i in imdbcname:\n",
    "    for j in i.find_all(\"span\"):\n",
    "        imdbyor.append(j.text.strip())\n",
    "        \n",
    "imdbyor    \n",
    "\n",
    "imdbr = imdbc.find_all('td', class_=\"ratingColumn imdbRating\", limit=100)\n",
    "len(imdbr)\n",
    "\n",
    "imdbrAll = []\n",
    "for i in imdbr:\n",
    "    imdbrAll.append(i.text.strip())\n",
    "    \n",
    "len(imdbrAll) \n",
    "data = pd.DataFrame({})\n",
    "data['Name'] = imdbcnamel\n",
    "\n",
    "data['IMDB rating'] = imdbrAll\n",
    "data['Year of release'] = imdbyor\n",
    "\n",
    "data\n",
    "\n",
    "\n",
    "\n",
    "\n",
    "\n",
    "\n",
    "\n",
    "\n",
    "\n",
    "\n",
    "\n"
   ]
  },
  {
   "cell_type": "markdown",
   "id": "d1566d6b",
   "metadata": {},
   "source": [
    "**Question 4**"
   ]
  },
  {
   "cell_type": "code",
   "execution_count": 82,
   "id": "d461a590",
   "metadata": {},
   "outputs": [],
   "source": [
    "books = requests.get(\"https://bookpage.com/\")"
   ]
  },
  {
   "cell_type": "code",
   "execution_count": 83,
   "id": "32b0ffe0",
   "metadata": {},
   "outputs": [
    {
     "data": {
      "text/plain": [
       "<Response [200]>"
      ]
     },
     "execution_count": 83,
     "metadata": {},
     "output_type": "execute_result"
    }
   ],
   "source": [
    "books"
   ]
  },
  {
   "cell_type": "code",
   "execution_count": 84,
   "id": "75a9721e",
   "metadata": {},
   "outputs": [],
   "source": [
    "book = BeautifulSoup(books.content)"
   ]
  },
  {
   "cell_type": "code",
   "execution_count": 114,
   "id": "964fab31",
   "metadata": {},
   "outputs": [],
   "source": [
    "mainbooks = book.find_all('div',class_=\"content\",limit=5)"
   ]
  },
  {
   "cell_type": "code",
   "execution_count": 116,
   "id": "cad79b1a",
   "metadata": {},
   "outputs": [
    {
     "data": {
      "text/plain": [
       "['Lesa Cline-Ransome',\n",
       " 'Ill-advised and irresistible',\n",
       " 'Being Clem',\n",
       " '★ How to Find Your Way in the Dark',\n",
       " 'Hold Fast Through the Fire']"
      ]
     },
     "execution_count": 116,
     "metadata": {},
     "output_type": "execute_result"
    }
   ],
   "source": [
    "name = []\n",
    "author = []\n",
    "genre = []\n",
    "review = []\n",
    "\n",
    "for sbooks in mainbooks:\n",
    "    for n in sbooks.find_all('h4',class_=\"italic\"):\n",
    "        name.append(n.text.strip())\n",
    "        \n",
    "         \n",
    "name"
   ]
  },
  {
   "cell_type": "code",
   "execution_count": 124,
   "id": "378628d7",
   "metadata": {},
   "outputs": [
    {
     "data": {
      "text/plain": [
       "['Jill Ratzan',\n",
       " 'Elizabeth Mazer',\n",
       " 'Jill Ratzan',\n",
       " 'Alice Cary',\n",
       " 'Laura Hubbard']"
      ]
     },
     "execution_count": 124,
     "metadata": {},
     "output_type": "execute_result"
    }
   ],
   "source": [
    "author =[]\n",
    "for sbooks in mainbooks:\n",
    "    for n in sbooks.find_all('p',class_=\"sans bold\"):\n",
    "        author.append(n.text.strip().replace(\"Review by \",\"\").replace(\"Interview by \",\"\").replace(\"Feature by \",\"\") )\n",
    "        \n",
    "author "
   ]
  },
  {
   "cell_type": "code",
   "execution_count": 125,
   "id": "50e7f095",
   "metadata": {},
   "outputs": [
    {
     "data": {
      "text/plain": [
       "[\"Children's / Middle Grade\",\n",
       " 'Romance / Historical Romance',\n",
       " \"Children's / Middle Grade\",\n",
       " 'Fiction / Coming of Age',\n",
       " 'Science Fiction & Fantasy / Science Fiction']"
      ]
     },
     "execution_count": 125,
     "metadata": {},
     "output_type": "execute_result"
    }
   ],
   "source": [
    "genre=[]\n",
    "for sbooks in mainbooks:\n",
    "    for n in sbooks.find_all('p',class_=\"genre-links hidden-phone\", limit=5):\n",
    "        genre.append(n.text.replace(\"\\n\",\"\")) \n",
    "        \n",
    "genre"
   ]
  },
  {
   "cell_type": "code",
   "execution_count": 127,
   "id": "09317875",
   "metadata": {},
   "outputs": [],
   "source": [
    "Booksdata = pd.DataFrame({})\n",
    "Booksdata[\"book name\"] = name\n",
    "Booksdata[\"author name\"]= author\n",
    "Booksdata[\"genre\"] = genre"
   ]
  },
  {
   "cell_type": "code",
   "execution_count": 128,
   "id": "cd13641a",
   "metadata": {},
   "outputs": [
    {
     "data": {
      "text/plain": [
       "['Award-winning children’s author Lesa Cline-Ransome discusses her new middle grade novel, Being Clem, a poignant work of historical fiction.',\n",
       " 'Three convention-defying heroines make these Regency romances totally irresistible.',\n",
       " 'Clem must decide whether to go along with a bully or stand up for the new boy in the poignant final book of the Finding Langston trilogy.',\n",
       " 'The ending of How to Find Your Way in the Dark is nothing short of brilliant, making a powerful statement about the need to fully address antisemitism.',\n",
       " 'This entertaining installment in the NeoG series is a great choice for readers looking for military drama, evocative writing and espionage.']"
      ]
     },
     "execution_count": 128,
     "metadata": {},
     "output_type": "execute_result"
    }
   ],
   "source": [
    "review=[]\n",
    "for sbooks in mainbooks:\n",
    "    for n in sbooks.find_all('p',class_=\"excerpt\", limit=5):\n",
    "        review.append(n.text.replace(\"\\n\",\"\")) \n",
    "        \n",
    "review"
   ]
  },
  {
   "cell_type": "code",
   "execution_count": 129,
   "id": "cf642f6b",
   "metadata": {},
   "outputs": [],
   "source": [
    "Booksdata[\"review\"] = review"
   ]
  },
  {
   "cell_type": "code",
   "execution_count": 130,
   "id": "a3597c13",
   "metadata": {
    "scrolled": true
   },
   "outputs": [
    {
     "data": {
      "text/html": [
       "<div>\n",
       "<style scoped>\n",
       "    .dataframe tbody tr th:only-of-type {\n",
       "        vertical-align: middle;\n",
       "    }\n",
       "\n",
       "    .dataframe tbody tr th {\n",
       "        vertical-align: top;\n",
       "    }\n",
       "\n",
       "    .dataframe thead th {\n",
       "        text-align: right;\n",
       "    }\n",
       "</style>\n",
       "<table border=\"1\" class=\"dataframe\">\n",
       "  <thead>\n",
       "    <tr style=\"text-align: right;\">\n",
       "      <th></th>\n",
       "      <th>book name</th>\n",
       "      <th>author name</th>\n",
       "      <th>genre</th>\n",
       "      <th>review</th>\n",
       "    </tr>\n",
       "  </thead>\n",
       "  <tbody>\n",
       "    <tr>\n",
       "      <th>0</th>\n",
       "      <td>Lesa Cline-Ransome</td>\n",
       "      <td>Jill Ratzan</td>\n",
       "      <td>Children's / Middle Grade</td>\n",
       "      <td>Award-winning children’s author Lesa Cline-Ran...</td>\n",
       "    </tr>\n",
       "    <tr>\n",
       "      <th>1</th>\n",
       "      <td>Ill-advised and irresistible</td>\n",
       "      <td>Elizabeth Mazer</td>\n",
       "      <td>Romance / Historical Romance</td>\n",
       "      <td>Three convention-defying heroines make these R...</td>\n",
       "    </tr>\n",
       "    <tr>\n",
       "      <th>2</th>\n",
       "      <td>Being Clem</td>\n",
       "      <td>Jill Ratzan</td>\n",
       "      <td>Children's / Middle Grade</td>\n",
       "      <td>Clem must decide whether to go along with a bu...</td>\n",
       "    </tr>\n",
       "    <tr>\n",
       "      <th>3</th>\n",
       "      <td>★ How to Find Your Way in the Dark</td>\n",
       "      <td>Alice Cary</td>\n",
       "      <td>Fiction / Coming of Age</td>\n",
       "      <td>The ending of How to Find Your Way in the Dark...</td>\n",
       "    </tr>\n",
       "    <tr>\n",
       "      <th>4</th>\n",
       "      <td>Hold Fast Through the Fire</td>\n",
       "      <td>Laura Hubbard</td>\n",
       "      <td>Science Fiction &amp; Fantasy / Science Fiction</td>\n",
       "      <td>This entertaining installment in the NeoG seri...</td>\n",
       "    </tr>\n",
       "  </tbody>\n",
       "</table>\n",
       "</div>"
      ],
      "text/plain": [
       "                            book name      author name  \\\n",
       "0                  Lesa Cline-Ransome      Jill Ratzan   \n",
       "1        Ill-advised and irresistible  Elizabeth Mazer   \n",
       "2                          Being Clem      Jill Ratzan   \n",
       "3  ★ How to Find Your Way in the Dark       Alice Cary   \n",
       "4          Hold Fast Through the Fire    Laura Hubbard   \n",
       "\n",
       "                                         genre  \\\n",
       "0                    Children's / Middle Grade   \n",
       "1                 Romance / Historical Romance   \n",
       "2                    Children's / Middle Grade   \n",
       "3                      Fiction / Coming of Age   \n",
       "4  Science Fiction & Fantasy / Science Fiction   \n",
       "\n",
       "                                              review  \n",
       "0  Award-winning children’s author Lesa Cline-Ran...  \n",
       "1  Three convention-defying heroines make these R...  \n",
       "2  Clem must decide whether to go along with a bu...  \n",
       "3  The ending of How to Find Your Way in the Dark...  \n",
       "4  This entertaining installment in the NeoG seri...  "
      ]
     },
     "execution_count": 130,
     "metadata": {},
     "output_type": "execute_result"
    }
   ],
   "source": [
    "Booksdata"
   ]
  },
  {
   "cell_type": "markdown",
   "id": "f97fa70c",
   "metadata": {},
   "source": [
    "**Question 5_1**"
   ]
  },
  {
   "cell_type": "code",
   "execution_count": 166,
   "id": "c20a23e2",
   "metadata": {},
   "outputs": [
    {
     "data": {
      "text/plain": [
       "<Response [200]>"
      ]
     },
     "execution_count": 166,
     "metadata": {},
     "output_type": "execute_result"
    }
   ],
   "source": [
    "cricket = requests.get(\"https://www.icc-cricket.com/\")\n",
    "cricket"
   ]
  },
  {
   "cell_type": "code",
   "execution_count": 167,
   "id": "c4f2496a",
   "metadata": {},
   "outputs": [],
   "source": [
    "cric = BeautifulSoup(cricket.content)"
   ]
  },
  {
   "cell_type": "code",
   "execution_count": 176,
   "id": "9f4ed165",
   "metadata": {},
   "outputs": [
    {
     "data": {
      "text/plain": [
       "<span class=\"icn icn-facebook-circle u-hide-phablet\"></span>"
      ]
     },
     "execution_count": 176,
     "metadata": {},
     "output_type": "execute_result"
    }
   ],
   "source": [
    "firstdata = cric.find('span', class_=\"u-hide-phablet\")\n",
    "firstdata"
   ]
  },
  {
   "cell_type": "code",
   "execution_count": 140,
   "id": "790ed900",
   "metadata": {},
   "outputs": [
    {
     "data": {
      "text/plain": [
       "[]"
      ]
     },
     "execution_count": 140,
     "metadata": {},
     "output_type": "execute_result"
    }
   ],
   "source": [
    "country = []\n",
    "for i in maindata:\n",
    "    for n in i.find_all(\"span\",class_=\"u-hide-phablet\"):\n",
    "        country.append(n.text.strip())\n",
    "        \n",
    "country       "
   ]
  }
 ],
 "metadata": {
  "kernelspec": {
   "display_name": "Python 3",
   "language": "python",
   "name": "python3"
  },
  "language_info": {
   "codemirror_mode": {
    "name": "ipython",
    "version": 3
   },
   "file_extension": ".py",
   "mimetype": "text/x-python",
   "name": "python",
   "nbconvert_exporter": "python",
   "pygments_lexer": "ipython3",
   "version": "3.8.8"
  }
 },
 "nbformat": 4,
 "nbformat_minor": 5
}
